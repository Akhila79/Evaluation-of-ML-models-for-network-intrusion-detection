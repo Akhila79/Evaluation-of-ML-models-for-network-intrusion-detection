{
  "cells": [
    {
      "cell_type": "code",
      "execution_count": 1,
      "metadata": {
        "colab": {
          "base_uri": "https://localhost:8080/"
        },
        "id": "iblakKKTgX_J",
        "outputId": "7e99f5e0-5125-4ee3-f2c9-d20bfda8b565"
      },
      "outputs": [
        {
          "output_type": "stream",
          "name": "stdout",
          "text": [
            "Drive already mounted at /content/drive; to attempt to forcibly remount, call drive.mount(\"/content/drive\", force_remount=True).\n"
          ]
        }
      ],
      "source": [
        "from google.colab import drive\n",
        "drive.mount('/content/drive')"
      ]
    },
    {
      "cell_type": "code",
      "execution_count": 2,
      "metadata": {
        "id": "a8bVkeyYgJmB"
      },
      "outputs": [],
      "source": [
        "import pandas as pd \n",
        "import numpy as np\n",
        "import math"
      ]
    },
    {
      "cell_type": "code",
      "execution_count": 3,
      "metadata": {
        "id": "RZdTqZPtgRSo"
      },
      "outputs": [],
      "source": [
        "train_df = pd.read_csv(\"/content/drive/Shareddrives/kdd dataset/binaryTraget_df.csv\")\n",
        "test_df=pd.read_csv(\"/content/drive/Shareddrives/kdd dataset/processed_test_df.csv\")"
      ]
    },
    {
      "cell_type": "code",
      "execution_count": 4,
      "metadata": {
        "id": "P3dfRoptgk1d"
      },
      "outputs": [],
      "source": [
        "df=train_df.loc[:,train_df.columns!='target']"
      ]
    },
    {
      "cell_type": "code",
      "source": [
        "df.head()"
      ],
      "metadata": {
        "colab": {
          "base_uri": "https://localhost:8080/",
          "height": 297
        },
        "id": "RPusp_ezqP2I",
        "outputId": "f0781fa1-69f3-4aa8-e112-760d504a9a8f"
      },
      "execution_count": 5,
      "outputs": [
        {
          "output_type": "execute_result",
          "data": {
            "text/plain": [
              "   su_attempted  dst_host_same_src_port_rate     count  logged_in  \\\n",
              "0     -0.024437                     0.069972 -0.717045  -0.809262   \n",
              "1     -0.024437                     2.367737 -0.620982  -0.809262   \n",
              "2     -0.024437                    -0.480197  0.339648  -0.809262   \n",
              "3     -0.024437                    -0.383108 -0.690846   1.235694   \n",
              "4     -0.024437                    -0.480197 -0.472521   1.235694   \n",
              "\n",
              "   dst_host_srv_count  dst_host_same_srv_rate  srv_count  same_srv_rate  \\\n",
              "0           -0.818890               -0.782367  -0.354343       0.771283   \n",
              "1           -1.035688               -1.161030  -0.368110      -1.321428   \n",
              "2           -0.809857               -0.938287  -0.299273      -1.389669   \n",
              "3            1.258754                1.066401  -0.313041       0.771283   \n",
              "4            1.258754                1.066401   0.058678       0.771283   \n",
              "\n",
              "   dst_host_rerror_rate  num_compromised  ...   60   61   62   63   64   65  \\\n",
              "0             -0.224532        -0.011664  ...  0.0  0.0  0.0  0.0  0.0  0.0   \n",
              "1             -0.387635        -0.011664  ...  0.0  0.0  0.0  0.0  0.0  0.0   \n",
              "2             -0.387635        -0.011664  ...  0.0  0.0  0.0  0.0  0.0  0.0   \n",
              "3             -0.387635        -0.011664  ...  0.0  0.0  0.0  0.0  0.0  0.0   \n",
              "4             -0.387635        -0.011664  ...  0.0  0.0  0.0  0.0  0.0  0.0   \n",
              "\n",
              "    66   67   68   69  \n",
              "0  0.0  0.0  0.0  0.0  \n",
              "1  0.0  0.0  0.0  0.0  \n",
              "2  0.0  0.0  0.0  0.0  \n",
              "3  0.0  0.0  0.0  0.0  \n",
              "4  0.0  0.0  0.0  0.0  \n",
              "\n",
              "[5 rows x 104 columns]"
            ],
            "text/html": [
              "\n",
              "  <div id=\"df-4e8cc680-eee6-4f16-8dfa-dccbc0477928\">\n",
              "    <div class=\"colab-df-container\">\n",
              "      <div>\n",
              "<style scoped>\n",
              "    .dataframe tbody tr th:only-of-type {\n",
              "        vertical-align: middle;\n",
              "    }\n",
              "\n",
              "    .dataframe tbody tr th {\n",
              "        vertical-align: top;\n",
              "    }\n",
              "\n",
              "    .dataframe thead th {\n",
              "        text-align: right;\n",
              "    }\n",
              "</style>\n",
              "<table border=\"1\" class=\"dataframe\">\n",
              "  <thead>\n",
              "    <tr style=\"text-align: right;\">\n",
              "      <th></th>\n",
              "      <th>su_attempted</th>\n",
              "      <th>dst_host_same_src_port_rate</th>\n",
              "      <th>count</th>\n",
              "      <th>logged_in</th>\n",
              "      <th>dst_host_srv_count</th>\n",
              "      <th>dst_host_same_srv_rate</th>\n",
              "      <th>srv_count</th>\n",
              "      <th>same_srv_rate</th>\n",
              "      <th>dst_host_rerror_rate</th>\n",
              "      <th>num_compromised</th>\n",
              "      <th>...</th>\n",
              "      <th>60</th>\n",
              "      <th>61</th>\n",
              "      <th>62</th>\n",
              "      <th>63</th>\n",
              "      <th>64</th>\n",
              "      <th>65</th>\n",
              "      <th>66</th>\n",
              "      <th>67</th>\n",
              "      <th>68</th>\n",
              "      <th>69</th>\n",
              "    </tr>\n",
              "  </thead>\n",
              "  <tbody>\n",
              "    <tr>\n",
              "      <th>0</th>\n",
              "      <td>-0.024437</td>\n",
              "      <td>0.069972</td>\n",
              "      <td>-0.717045</td>\n",
              "      <td>-0.809262</td>\n",
              "      <td>-0.818890</td>\n",
              "      <td>-0.782367</td>\n",
              "      <td>-0.354343</td>\n",
              "      <td>0.771283</td>\n",
              "      <td>-0.224532</td>\n",
              "      <td>-0.011664</td>\n",
              "      <td>...</td>\n",
              "      <td>0.0</td>\n",
              "      <td>0.0</td>\n",
              "      <td>0.0</td>\n",
              "      <td>0.0</td>\n",
              "      <td>0.0</td>\n",
              "      <td>0.0</td>\n",
              "      <td>0.0</td>\n",
              "      <td>0.0</td>\n",
              "      <td>0.0</td>\n",
              "      <td>0.0</td>\n",
              "    </tr>\n",
              "    <tr>\n",
              "      <th>1</th>\n",
              "      <td>-0.024437</td>\n",
              "      <td>2.367737</td>\n",
              "      <td>-0.620982</td>\n",
              "      <td>-0.809262</td>\n",
              "      <td>-1.035688</td>\n",
              "      <td>-1.161030</td>\n",
              "      <td>-0.368110</td>\n",
              "      <td>-1.321428</td>\n",
              "      <td>-0.387635</td>\n",
              "      <td>-0.011664</td>\n",
              "      <td>...</td>\n",
              "      <td>0.0</td>\n",
              "      <td>0.0</td>\n",
              "      <td>0.0</td>\n",
              "      <td>0.0</td>\n",
              "      <td>0.0</td>\n",
              "      <td>0.0</td>\n",
              "      <td>0.0</td>\n",
              "      <td>0.0</td>\n",
              "      <td>0.0</td>\n",
              "      <td>0.0</td>\n",
              "    </tr>\n",
              "    <tr>\n",
              "      <th>2</th>\n",
              "      <td>-0.024437</td>\n",
              "      <td>-0.480197</td>\n",
              "      <td>0.339648</td>\n",
              "      <td>-0.809262</td>\n",
              "      <td>-0.809857</td>\n",
              "      <td>-0.938287</td>\n",
              "      <td>-0.299273</td>\n",
              "      <td>-1.389669</td>\n",
              "      <td>-0.387635</td>\n",
              "      <td>-0.011664</td>\n",
              "      <td>...</td>\n",
              "      <td>0.0</td>\n",
              "      <td>0.0</td>\n",
              "      <td>0.0</td>\n",
              "      <td>0.0</td>\n",
              "      <td>0.0</td>\n",
              "      <td>0.0</td>\n",
              "      <td>0.0</td>\n",
              "      <td>0.0</td>\n",
              "      <td>0.0</td>\n",
              "      <td>0.0</td>\n",
              "    </tr>\n",
              "    <tr>\n",
              "      <th>3</th>\n",
              "      <td>-0.024437</td>\n",
              "      <td>-0.383108</td>\n",
              "      <td>-0.690846</td>\n",
              "      <td>1.235694</td>\n",
              "      <td>1.258754</td>\n",
              "      <td>1.066401</td>\n",
              "      <td>-0.313041</td>\n",
              "      <td>0.771283</td>\n",
              "      <td>-0.387635</td>\n",
              "      <td>-0.011664</td>\n",
              "      <td>...</td>\n",
              "      <td>0.0</td>\n",
              "      <td>0.0</td>\n",
              "      <td>0.0</td>\n",
              "      <td>0.0</td>\n",
              "      <td>0.0</td>\n",
              "      <td>0.0</td>\n",
              "      <td>0.0</td>\n",
              "      <td>0.0</td>\n",
              "      <td>0.0</td>\n",
              "      <td>0.0</td>\n",
              "    </tr>\n",
              "    <tr>\n",
              "      <th>4</th>\n",
              "      <td>-0.024437</td>\n",
              "      <td>-0.480197</td>\n",
              "      <td>-0.472521</td>\n",
              "      <td>1.235694</td>\n",
              "      <td>1.258754</td>\n",
              "      <td>1.066401</td>\n",
              "      <td>0.058678</td>\n",
              "      <td>0.771283</td>\n",
              "      <td>-0.387635</td>\n",
              "      <td>-0.011664</td>\n",
              "      <td>...</td>\n",
              "      <td>0.0</td>\n",
              "      <td>0.0</td>\n",
              "      <td>0.0</td>\n",
              "      <td>0.0</td>\n",
              "      <td>0.0</td>\n",
              "      <td>0.0</td>\n",
              "      <td>0.0</td>\n",
              "      <td>0.0</td>\n",
              "      <td>0.0</td>\n",
              "      <td>0.0</td>\n",
              "    </tr>\n",
              "  </tbody>\n",
              "</table>\n",
              "<p>5 rows × 104 columns</p>\n",
              "</div>\n",
              "      <button class=\"colab-df-convert\" onclick=\"convertToInteractive('df-4e8cc680-eee6-4f16-8dfa-dccbc0477928')\"\n",
              "              title=\"Convert this dataframe to an interactive table.\"\n",
              "              style=\"display:none;\">\n",
              "        \n",
              "  <svg xmlns=\"http://www.w3.org/2000/svg\" height=\"24px\"viewBox=\"0 0 24 24\"\n",
              "       width=\"24px\">\n",
              "    <path d=\"M0 0h24v24H0V0z\" fill=\"none\"/>\n",
              "    <path d=\"M18.56 5.44l.94 2.06.94-2.06 2.06-.94-2.06-.94-.94-2.06-.94 2.06-2.06.94zm-11 1L8.5 8.5l.94-2.06 2.06-.94-2.06-.94L8.5 2.5l-.94 2.06-2.06.94zm10 10l.94 2.06.94-2.06 2.06-.94-2.06-.94-.94-2.06-.94 2.06-2.06.94z\"/><path d=\"M17.41 7.96l-1.37-1.37c-.4-.4-.92-.59-1.43-.59-.52 0-1.04.2-1.43.59L10.3 9.45l-7.72 7.72c-.78.78-.78 2.05 0 2.83L4 21.41c.39.39.9.59 1.41.59.51 0 1.02-.2 1.41-.59l7.78-7.78 2.81-2.81c.8-.78.8-2.07 0-2.86zM5.41 20L4 18.59l7.72-7.72 1.47 1.35L5.41 20z\"/>\n",
              "  </svg>\n",
              "      </button>\n",
              "      \n",
              "  <style>\n",
              "    .colab-df-container {\n",
              "      display:flex;\n",
              "      flex-wrap:wrap;\n",
              "      gap: 12px;\n",
              "    }\n",
              "\n",
              "    .colab-df-convert {\n",
              "      background-color: #E8F0FE;\n",
              "      border: none;\n",
              "      border-radius: 50%;\n",
              "      cursor: pointer;\n",
              "      display: none;\n",
              "      fill: #1967D2;\n",
              "      height: 32px;\n",
              "      padding: 0 0 0 0;\n",
              "      width: 32px;\n",
              "    }\n",
              "\n",
              "    .colab-df-convert:hover {\n",
              "      background-color: #E2EBFA;\n",
              "      box-shadow: 0px 1px 2px rgba(60, 64, 67, 0.3), 0px 1px 3px 1px rgba(60, 64, 67, 0.15);\n",
              "      fill: #174EA6;\n",
              "    }\n",
              "\n",
              "    [theme=dark] .colab-df-convert {\n",
              "      background-color: #3B4455;\n",
              "      fill: #D2E3FC;\n",
              "    }\n",
              "\n",
              "    [theme=dark] .colab-df-convert:hover {\n",
              "      background-color: #434B5C;\n",
              "      box-shadow: 0px 1px 3px 1px rgba(0, 0, 0, 0.15);\n",
              "      filter: drop-shadow(0px 1px 2px rgba(0, 0, 0, 0.3));\n",
              "      fill: #FFFFFF;\n",
              "    }\n",
              "  </style>\n",
              "\n",
              "      <script>\n",
              "        const buttonEl =\n",
              "          document.querySelector('#df-4e8cc680-eee6-4f16-8dfa-dccbc0477928 button.colab-df-convert');\n",
              "        buttonEl.style.display =\n",
              "          google.colab.kernel.accessAllowed ? 'block' : 'none';\n",
              "\n",
              "        async function convertToInteractive(key) {\n",
              "          const element = document.querySelector('#df-4e8cc680-eee6-4f16-8dfa-dccbc0477928');\n",
              "          const dataTable =\n",
              "            await google.colab.kernel.invokeFunction('convertToInteractive',\n",
              "                                                     [key], {});\n",
              "          if (!dataTable) return;\n",
              "\n",
              "          const docLinkHtml = 'Like what you see? Visit the ' +\n",
              "            '<a target=\"_blank\" href=https://colab.research.google.com/notebooks/data_table.ipynb>data table notebook</a>'\n",
              "            + ' to learn more about interactive tables.';\n",
              "          element.innerHTML = '';\n",
              "          dataTable['output_type'] = 'display_data';\n",
              "          await google.colab.output.renderOutput(dataTable, element);\n",
              "          const docLink = document.createElement('div');\n",
              "          docLink.innerHTML = docLinkHtml;\n",
              "          element.appendChild(docLink);\n",
              "        }\n",
              "      </script>\n",
              "    </div>\n",
              "  </div>\n",
              "  "
            ]
          },
          "metadata": {},
          "execution_count": 5
        }
      ]
    },
    {
      "cell_type": "code",
      "execution_count": 6,
      "metadata": {
        "id": "XFHKR9EBhurs"
      },
      "outputs": [],
      "source": [
        "clusters=[0]*df.shape[0]"
      ]
    },
    {
      "cell_type": "code",
      "execution_count": 7,
      "metadata": {
        "id": "bk_25-Rphzje"
      },
      "outputs": [],
      "source": [
        "#initial clusters\n",
        "c1=df.iloc[0]\n",
        "c2=df.iloc[1]"
      ]
    },
    {
      "cell_type": "code",
      "execution_count": 8,
      "metadata": {
        "id": "zb2sXIp5h0fH"
      },
      "outputs": [],
      "source": [
        "def euclideanDistance(point1,point2):\n",
        "  s=0\n",
        "  for i in range(len(point1)):\n",
        "    s+=(point1[i]-point2[i])**2\n",
        "  \n",
        "  return math.sqrt(s)"
      ]
    },
    {
      "cell_type": "code",
      "execution_count": 9,
      "metadata": {
        "id": "mqv9XZHSh4zw"
      },
      "outputs": [],
      "source": [
        "num_iters=50\n",
        "\n",
        "for i in range(num_iters):\n",
        "  #print(i)\n",
        "  count_c1=0\n",
        "  count_c2=0\n",
        "  for index, row in df.iterrows():\n",
        "    #distance calculation from point to cluster\n",
        "    d1=euclideanDistance(row,c1)\n",
        "    d2=euclideanDistance(row,c2)\n",
        "  \n",
        "  \n",
        "    #clustering based on distance\n",
        "    if d1<=d2:\n",
        "      clusters[index]=1\n",
        "      count_c1+=1\n",
        "    else:\n",
        "      clusters[index]=2\n",
        "      count_c2+=1\n",
        "    \n",
        "  #update cluster centers\n",
        "  df['cluster']=pd.Series(clusters)\n",
        "\n",
        "  #new clusters\n",
        "  mean_c1=df[df['cluster']==1].mean(axis=0)\n",
        "  mean_c1=mean_c1.drop(['cluster'])\n",
        "\n",
        "  mean_c2=df[df['cluster']==2].mean(axis=0)\n",
        "  mean_c2=mean_c2.drop(['cluster'])\n",
        "\n",
        "  #update cluster centers\n",
        "  c1=mean_c1\n",
        "  c2=mean_c2\n",
        "  \n",
        "  #removing cluster column\n",
        "  df.drop('cluster', inplace=True, axis=1)\n",
        "    "
      ]
    },
    {
      "cell_type": "markdown",
      "metadata": {
        "id": "EiU741Y6iAyy"
      },
      "source": [
        "Final clusters"
      ]
    },
    {
      "cell_type": "code",
      "execution_count": 10,
      "metadata": {
        "id": "tnz426oUh_x7",
        "colab": {
          "base_uri": "https://localhost:8080/"
        },
        "outputId": "edbb314e-5cf9-4e60-ad4d-d997e3d58a4b"
      },
      "outputs": [
        {
          "output_type": "stream",
          "name": "stdout",
          "text": [
            "Cluster_center1\n",
            "su_attempted                  -0.019750\n",
            "dst_host_same_src_port_rate   -0.311857\n",
            "count                          0.741195\n",
            "logged_in                     -0.803290\n",
            "dst_host_srv_count            -0.929904\n",
            "                                 ...   \n",
            "65                             0.000000\n",
            "66                             0.016465\n",
            "67                             0.014560\n",
            "68                             0.013057\n",
            "69                             0.014666\n",
            "Length: 104, dtype: float64\n",
            "cluster_center_2\n",
            "su_attempted                   0.011855\n",
            "dst_host_same_src_port_rate    0.187197\n",
            "count                         -0.444915\n",
            "logged_in                      0.482188\n",
            "dst_host_srv_count             0.558191\n",
            "                                 ...   \n",
            "65                             0.007647\n",
            "66                             0.000025\n",
            "67                             0.000013\n",
            "68                             0.000000\n",
            "69                             0.000000\n",
            "Length: 104, dtype: float64\n"
          ]
        }
      ],
      "source": [
        "print(\"Cluster_center1\")\n",
        "print(c1)\n",
        "print(\"cluster_center_2\")\n",
        "print(c2)"
      ]
    },
    {
      "cell_type": "markdown",
      "source": [
        "Saving cluster centers"
      ],
      "metadata": {
        "id": "pRj9AECBioGZ"
      }
    },
    {
      "cell_type": "code",
      "source": [
        "c1_center=c1\n",
        "c2_center=c2"
      ],
      "metadata": {
        "id": "rS-FYls-o2n0"
      },
      "execution_count": 11,
      "outputs": []
    },
    {
      "cell_type": "code",
      "source": [
        "c1_center.to_frame().T\n",
        "c2_center.to_frame().T\n",
        "cluster_centers=pd.concat([c1_center,c2_center],axis=0)\n",
        "cluster_centers.head()\n",
        "cluster_centers.to_csv(\"/content/drive/Shareddrives/kdd dataset/clustercenters.csv\",index=False)"
      ],
      "metadata": {
        "id": "L6Y-wuo7oIb6"
      },
      "execution_count": 12,
      "outputs": []
    },
    {
      "cell_type": "markdown",
      "source": [
        "Label identification"
      ],
      "metadata": {
        "id": "DGM1qLBEmqdO"
      }
    },
    {
      "cell_type": "code",
      "source": [
        "train_df['target'].value_counts()"
      ],
      "metadata": {
        "colab": {
          "base_uri": "https://localhost:8080/"
        },
        "id": "uF4cLquE0EbD",
        "outputId": "ab5faaaa-5e1e-4546-a619-83706ecbffc5"
      },
      "execution_count": 13,
      "outputs": [
        {
          "output_type": "execute_result",
          "data": {
            "text/plain": [
              "0    67343\n",
              "1    58630\n",
              "Name: target, dtype: int64"
            ]
          },
          "metadata": {},
          "execution_count": 13
        }
      ]
    },
    {
      "cell_type": "code",
      "source": [
        "cluster1=pd.DataFrame(columns=df.columns)\n",
        "cluster2=pd.DataFrame(columns=df.columns)"
      ],
      "metadata": {
        "id": "2kStviAQmmvr"
      },
      "execution_count": 14,
      "outputs": []
    },
    {
      "cell_type": "code",
      "source": [
        "#cluster1 true positives\n",
        "count_usual=0\n",
        "count_unusual=0\n",
        "for i in range(len(clusters)):\n",
        "  if clusters[i]==1:\n",
        "    if train_df['target'][i]==0:\n",
        "      count_usual+=1\n",
        "    else:\n",
        "      count_unusual+=1\n",
        "\n",
        "\n",
        "#cluster2 \n",
        "count1_usual=0\n",
        "count1_unusual=0\n",
        "for i in range(len(clusters)):\n",
        "  if clusters[i]==2:\n",
        "    if train_df['target'][i]==0:\n",
        "      count1_usual+=1\n",
        "    else:\n",
        "      count1_unusual+=1"
      ],
      "metadata": {
        "id": "DeSIJNNq3zsi"
      },
      "execution_count": 15,
      "outputs": []
    },
    {
      "cell_type": "code",
      "source": [
        "print(\"normal\")\n",
        "print(count_usual)\n",
        "print(\"attacks:\")\n",
        "print(count_unusual)"
      ],
      "metadata": {
        "colab": {
          "base_uri": "https://localhost:8080/"
        },
        "id": "E0XkHxzU4-FA",
        "outputId": "7bf1d46a-dc75-4fc1-cbdc-0281454f7f95"
      },
      "execution_count": 16,
      "outputs": [
        {
          "output_type": "stream",
          "name": "stdout",
          "text": [
            "normal\n",
            "318\n",
            "attacks:\n",
            "46935\n"
          ]
        }
      ]
    },
    {
      "cell_type": "code",
      "source": [
        "print(\"normal\")\n",
        "print(count1_usual)\n",
        "print(\"attacks:\")\n",
        "print(count1_unusual)"
      ],
      "metadata": {
        "colab": {
          "base_uri": "https://localhost:8080/"
        },
        "id": "gxRWejoD5AHw",
        "outputId": "c8f99e6c-7a5f-4365-9036-548c73215f30"
      },
      "execution_count": 17,
      "outputs": [
        {
          "output_type": "stream",
          "name": "stdout",
          "text": [
            "normal\n",
            "67025\n",
            "attacks:\n",
            "11695\n"
          ]
        }
      ]
    },
    {
      "cell_type": "markdown",
      "source": [
        "Evaluation"
      ],
      "metadata": {
        "id": "a4WbKR1VViVB"
      }
    },
    {
      "cell_type": "code",
      "source": [
        "test_df['target'].value_counts()"
      ],
      "metadata": {
        "colab": {
          "base_uri": "https://localhost:8080/"
        },
        "id": "0iemgeOPRP29",
        "outputId": "fbd64a74-a4a4-43c1-df80-9cac187c6dfd"
      },
      "execution_count": 18,
      "outputs": [
        {
          "output_type": "execute_result",
          "data": {
            "text/plain": [
              "1    12833\n",
              "0     9711\n",
              "Name: target, dtype: int64"
            ]
          },
          "metadata": {},
          "execution_count": 18
        }
      ]
    },
    {
      "cell_type": "code",
      "source": [
        "test_points=test_df.loc[:,train_df.columns!='target']"
      ],
      "metadata": {
        "id": "IulClCOWQoZs"
      },
      "execution_count": 19,
      "outputs": []
    },
    {
      "cell_type": "code",
      "source": [
        "clusters_test=[0]*test_points.shape[0]\n",
        "count_attacks=0\n",
        "count_normal=0"
      ],
      "metadata": {
        "id": "TArHNxCWQUSK"
      },
      "execution_count": 20,
      "outputs": []
    },
    {
      "cell_type": "markdown",
      "source": [
        "Cluster1: attacks\n",
        "Cluster2: normal "
      ],
      "metadata": {
        "id": "nK80Nm3Go8N6"
      }
    },
    {
      "cell_type": "code",
      "source": [
        "for i,r in test_points.iterrows():\n",
        "   #distance calculation from point to cluster\n",
        "    d1=euclideanDistance(r,c1)\n",
        "    d2=euclideanDistance(r,c2)\n",
        "\n",
        "    #clustering based on distance\n",
        "    if d1<=d2:\n",
        "      clusters_test[i]=1\n",
        "      count_attacks+=1\n",
        "    else:\n",
        "      clusters_test[i]=0\n",
        "      count_normal+=1\n",
        "    \n",
        "#update cluster centers\n",
        "test_df['cluster']=pd.Series(clusters_test)"
      ],
      "metadata": {
        "id": "MWw5qsezVeXE"
      },
      "execution_count": 21,
      "outputs": []
    },
    {
      "cell_type": "code",
      "source": [
        "count_attacks"
      ],
      "metadata": {
        "colab": {
          "base_uri": "https://localhost:8080/"
        },
        "id": "JCiJIuHApijU",
        "outputId": "a012a669-fd44-4555-d39d-985a1dcc5d7c"
      },
      "execution_count": 22,
      "outputs": [
        {
          "output_type": "execute_result",
          "data": {
            "text/plain": [
              "6144"
            ]
          },
          "metadata": {},
          "execution_count": 22
        }
      ]
    },
    {
      "cell_type": "code",
      "source": [
        "count_normal"
      ],
      "metadata": {
        "colab": {
          "base_uri": "https://localhost:8080/"
        },
        "id": "a3HVR7hRplDy",
        "outputId": "82b8eaca-9adc-449a-bc18-f2d021eee2c8"
      },
      "execution_count": 23,
      "outputs": [
        {
          "output_type": "execute_result",
          "data": {
            "text/plain": [
              "16400"
            ]
          },
          "metadata": {},
          "execution_count": 23
        }
      ]
    },
    {
      "cell_type": "markdown",
      "source": [
        "Evaluation"
      ],
      "metadata": {
        "id": "UQ7R91UYTM8_"
      }
    },
    {
      "cell_type": "code",
      "source": [
        "test_df['match']=(test_df['target']==test_df['cluster'])"
      ],
      "metadata": {
        "id": "USz2oUTITL9L"
      },
      "execution_count": 24,
      "outputs": []
    },
    {
      "cell_type": "code",
      "source": [
        "test_df['match'].value_counts()"
      ],
      "metadata": {
        "colab": {
          "base_uri": "https://localhost:8080/"
        },
        "id": "rHi_UjfBTLvG",
        "outputId": "5d21e15a-52d3-449e-de0c-d44cbbf50a75"
      },
      "execution_count": 25,
      "outputs": [
        {
          "output_type": "execute_result",
          "data": {
            "text/plain": [
              "True     14893\n",
              "False     7651\n",
              "Name: match, dtype: int64"
            ]
          },
          "metadata": {},
          "execution_count": 25
        }
      ]
    },
    {
      "cell_type": "code",
      "source": [
        "test_df['match'].mean()"
      ],
      "metadata": {
        "colab": {
          "base_uri": "https://localhost:8080/"
        },
        "id": "O711XlkCTwl9",
        "outputId": "4b43cfa1-37ee-418e-f748-7acc6b5c11db"
      },
      "execution_count": 26,
      "outputs": [
        {
          "output_type": "execute_result",
          "data": {
            "text/plain": [
              "0.6606192334989354"
            ]
          },
          "metadata": {},
          "execution_count": 26
        }
      ]
    },
    {
      "cell_type": "markdown",
      "source": [
        "Confusion matrix"
      ],
      "metadata": {
        "id": "v3Z71FGcUfRL"
      }
    },
    {
      "cell_type": "code",
      "source": [
        "import matplotlib.pyplot as plt\n",
        "from sklearn import metrics"
      ],
      "metadata": {
        "id": "3NS55gIKUjbh"
      },
      "execution_count": 27,
      "outputs": []
    },
    {
      "cell_type": "markdown",
      "source": [
        "True Negative (Top-Left Quadrant)\n",
        "False Positive (Top-Right Quadrant)\n",
        "False Negative (Bottom-Left Quadrant)\n",
        "True Positive (Bottom-Right Quadrant)"
      ],
      "metadata": {
        "id": "dGHnX5vXaKVe"
      }
    },
    {
      "cell_type": "code",
      "source": [
        "confusion_matrix = metrics.confusion_matrix(test_df['target'], test_df['cluster'])"
      ],
      "metadata": {
        "id": "I5YpwgWKUqCQ"
      },
      "execution_count": 28,
      "outputs": []
    },
    {
      "cell_type": "code",
      "source": [
        "np.savetxt(\"/content/drive/Shareddrives/kdd dataset/kmeans_bin_confusion_mat\",confusion_matrix)"
      ],
      "metadata": {
        "id": "cne0UmazbM9U"
      },
      "execution_count": 29,
      "outputs": []
    },
    {
      "cell_type": "code",
      "source": [
        "cm_display = metrics.ConfusionMatrixDisplay(confusion_matrix = confusion_matrix, display_labels = [False, True])\n",
        "\n",
        "cm_display.plot()\n",
        "plt.show()\n"
      ],
      "metadata": {
        "colab": {
          "base_uri": "https://localhost:8080/",
          "height": 279
        },
        "id": "rgu8gIZIU4n3",
        "outputId": "2fb46424-4271-4a92-9816-afed3f843fb0"
      },
      "execution_count": 30,
      "outputs": [
        {
          "output_type": "display_data",
          "data": {
            "text/plain": [
              "<Figure size 432x288 with 2 Axes>"
            ],
            "image/png": "[encoded data removed]"
          },
          "metadata": {
            "needs_background": "light"
          }
        }
      ]
    },
    {
      "cell_type": "markdown",
      "source": [
        "Precision, Recall and F1_score for k-means clustering with k=2"
      ],
      "metadata": {
        "id": "PUr1OUvoXSM7"
      }
    },
    {
      "cell_type": "markdown",
      "source": [
        "Precision Score = TP / (FP + TP)"
      ],
      "metadata": {
        "id": "vI25BM6LXjhX"
      }
    },
    {
      "cell_type": "code",
      "source": [
        "print('Precision: %.3f' % metrics.precision_score(test_df['target'],clusters_test))"
      ],
      "metadata": {
        "colab": {
          "base_uri": "https://localhost:8080/"
        },
        "id": "lnWJlBvXRob7",
        "outputId": "df06ef55-3129-47e9-ed28-61c095e6e38b"
      },
      "execution_count": 31,
      "outputs": [
        {
          "output_type": "stream",
          "name": "stdout",
          "text": [
            "Precision: 0.922\n"
          ]
        }
      ]
    },
    {
      "cell_type": "markdown",
      "source": [
        "Recall Score = TP / (FN + TP)"
      ],
      "metadata": {
        "id": "VHBZ8SELX-EG"
      }
    },
    {
      "cell_type": "code",
      "source": [
        "print('Recall: %.3f' % metrics.recall_score(test_df['target'], test_df['cluster']))"
      ],
      "metadata": {
        "colab": {
          "base_uri": "https://localhost:8080/"
        },
        "id": "da1NxKb_R8j7",
        "outputId": "149cb921-c8d4-4469-b6f5-474cf6ffc804"
      },
      "execution_count": 32,
      "outputs": [
        {
          "output_type": "stream",
          "name": "stdout",
          "text": [
            "Recall: 0.441\n"
          ]
        }
      ]
    },
    {
      "cell_type": "markdown",
      "source": [
        "Accuracy Score = (TP + TN)/ (TP + FN + TN + FP)"
      ],
      "metadata": {
        "id": "xUyvT3XbYUSf"
      }
    },
    {
      "cell_type": "code",
      "source": [
        "print('Accuracy: %.3f' % metrics.accuracy_score(test_df['target'], test_df['cluster']))"
      ],
      "metadata": {
        "colab": {
          "base_uri": "https://localhost:8080/"
        },
        "id": "8i9v2BfaTZoT",
        "outputId": "dabbe9af-dace-496b-e907-958dc54c54da"
      },
      "execution_count": 33,
      "outputs": [
        {
          "output_type": "stream",
          "name": "stdout",
          "text": [
            "Accuracy: 0.661\n"
          ]
        }
      ]
    },
    {
      "cell_type": "code",
      "source": [
        "print('F1_score: %.3f' % metrics.f1_score(test_df['target'], test_df['cluster']))"
      ],
      "metadata": {
        "colab": {
          "base_uri": "https://localhost:8080/"
        },
        "id": "f34QLpn5xiem",
        "outputId": "a4dca1a5-ba4d-414b-9cf2-2e4cec171bb7"
      },
      "execution_count": 34,
      "outputs": [
        {
          "output_type": "stream",
          "name": "stdout",
          "text": [
            "F1_score: 0.597\n"
          ]
        }
      ]
    },
    {
      "cell_type": "markdown",
      "source": [
        "% of new attacks detected using k-means"
      ],
      "metadata": {
        "id": "RGtKYTX1gcu9"
      }
    },
    {
      "cell_type": "code",
      "source": [
        "test_df['new_attacks']=pd.read_csv(\"/content/drive/Shareddrives/kdd dataset/new_attack_list.csv\")\n",
        "test_df['new_attacks'].value_counts()"
      ],
      "metadata": {
        "colab": {
          "base_uri": "https://localhost:8080/"
        },
        "id": "otWgP5mVl7uw",
        "outputId": "edab1a1f-ca60-4901-a18b-538a3b90a3e5"
      },
      "execution_count": 35,
      "outputs": [
        {
          "output_type": "execute_result",
          "data": {
            "text/plain": [
              "-1    18794\n",
              " 1     3750\n",
              "Name: new_attacks, dtype: int64"
            ]
          },
          "metadata": {},
          "execution_count": 35
        }
      ]
    },
    {
      "cell_type": "code",
      "source": [
        "test_df['match_bin']=(test_df['cluster']==test_df['target'])"
      ],
      "metadata": {
        "id": "JggJKKWemCU8"
      },
      "execution_count": 36,
      "outputs": []
    },
    {
      "cell_type": "code",
      "source": [
        "test_df['match_bin'].value_counts()"
      ],
      "metadata": {
        "colab": {
          "base_uri": "https://localhost:8080/"
        },
        "id": "Vxskw4wZmMMB",
        "outputId": "2547b29c-faae-4d67-fa5b-5d4675f1a152"
      },
      "execution_count": 37,
      "outputs": [
        {
          "output_type": "execute_result",
          "data": {
            "text/plain": [
              "True     14893\n",
              "False     7651\n",
              "Name: match_bin, dtype: int64"
            ]
          },
          "metadata": {},
          "execution_count": 37
        }
      ]
    },
    {
      "cell_type": "code",
      "source": [
        "count_attacks=3750\n",
        "new_attack_detected=(test_df['new_attacks']==test_df['match_bin'])\n",
        "print(\"% of new attacks detected:\",sum(new_attack_detected)/count_attacks)"
      ],
      "metadata": {
        "colab": {
          "base_uri": "https://localhost:8080/"
        },
        "id": "i4LNw_JlmT9C",
        "outputId": "28131707-2bfc-44b2-f0f2-54282b157312"
      },
      "execution_count": 38,
      "outputs": [
        {
          "output_type": "stream",
          "name": "stdout",
          "text": [
            "% of new attacks detected: 0.05653333333333333\n"
          ]
        }
      ]
    },
    {
      "cell_type": "markdown",
      "source": [
        "saving test results after clustering"
      ],
      "metadata": {
        "id": "mt9dqfL2SzEF"
      }
    },
    {
      "cell_type": "code",
      "source": [
        "test_df.to_csv(\"/content/drive/Shareddrives/kdd dataset/clustered_test.csv\",index=False)"
      ],
      "metadata": {
        "id": "uS7gaTdFSy1d"
      },
      "execution_count": 39,
      "outputs": []
    },
    {
      "cell_type": "markdown",
      "source": [
        "Binary and multi class classification using knn method from sklearn.neighbors"
      ],
      "metadata": {
        "id": "ZdhHHCh61al9"
      }
    },
    {
      "cell_type": "code",
      "source": [
        "train_df= pd.read_csv(\"/content/drive/Shareddrives/kdd dataset/binaryTraget_df.csv\")\n",
        "train_df_target_encoded=pd.read_csv(\"/content/drive/Shareddrives/kdd dataset/multiClassWithLabel_train_encoded.csv\")"
      ],
      "metadata": {
        "id": "ncGjjWOI2WNs"
      },
      "execution_count": 40,
      "outputs": []
    },
    {
      "cell_type": "markdown",
      "source": [
        "Test data loading "
      ],
      "metadata": {
        "id": "I7Afmx1K6P3o"
      }
    },
    {
      "cell_type": "code",
      "source": [
        "test_df=pd.read_csv(\"/content/drive/Shareddrives/kdd dataset/processed_test_df.csv\")\n",
        "test_df_target_encoded=pd.read_csv(\"/content/drive/Shareddrives/kdd dataset/multiClassWithLabel_test_encoded.csv\")"
      ],
      "metadata": {
        "id": "4HaExMrC6RtV"
      },
      "execution_count": 41,
      "outputs": []
    },
    {
      "cell_type": "code",
      "source": [
        "train_df_target_encoded.value_counts()"
      ],
      "metadata": {
        "colab": {
          "base_uri": "https://localhost:8080/"
        },
        "id": "V7rKx3H03RQE",
        "outputId": "a0889c74-2f53-4175-aeaa-bf95398239f0"
      },
      "execution_count": 42,
      "outputs": [
        {
          "output_type": "execute_result",
          "data": {
            "text/plain": [
              "target_encoded\n",
              "3                 67343\n",
              "0                 45927\n",
              "4                 11656\n",
              "1                   995\n",
              "2                    52\n",
              "dtype: int64"
            ]
          },
          "metadata": {},
          "execution_count": 42
        }
      ]
    },
    {
      "cell_type": "code",
      "source": [
        "from sklearn.neighbors import KNeighborsClassifier"
      ],
      "metadata": {
        "id": "SAWXMx5M23Lb"
      },
      "execution_count": 43,
      "outputs": []
    },
    {
      "cell_type": "code",
      "source": [
        "X_train_bin=train_df.loc[:,train_df.columns!='target']\n",
        "y_train_bin=train_df['target']\n",
        "X_test_bin=test_df.loc[:,test_df.columns!='target']\n",
        "y_test_bin=train_df['target']"
      ],
      "metadata": {
        "id": "wUH18ZTHNCBD"
      },
      "execution_count": 44,
      "outputs": []
    },
    {
      "cell_type": "code",
      "source": [
        "knn_bin=KNeighborsClassifier(n_neighbors=2)\n",
        "knn_bin.fit(X_train_bin,y_train_bin)"
      ],
      "metadata": {
        "colab": {
          "base_uri": "https://localhost:8080/"
        },
        "id": "El_bLTyyNcYc",
        "outputId": "afdd47d7-21e9-4c11-df7b-149c8ceba568"
      },
      "execution_count": 45,
      "outputs": [
        {
          "output_type": "execute_result",
          "data": {
            "text/plain": [
              "KNeighborsClassifier(n_neighbors=2)"
            ]
          },
          "metadata": {},
          "execution_count": 45
        }
      ]
    },
    {
      "cell_type": "code",
      "source": [
        "y_pred_bin=knn_bin.predict(X_test_bin)"
      ],
      "metadata": {
        "id": "__I_iYQENnFs"
      },
      "execution_count": 46,
      "outputs": []
    },
    {
      "cell_type": "code",
      "source": [
        "X_train=train_df.loc[:,train_df.columns!='target']\n",
        "y_train=train_df_target_encoded"
      ],
      "metadata": {
        "id": "trtUqvP829w3"
      },
      "execution_count": 47,
      "outputs": []
    },
    {
      "cell_type": "code",
      "source": [
        "knn=KNeighborsClassifier(n_neighbors=5)\n",
        "knn.fit(X_train,y_train)"
      ],
      "metadata": {
        "colab": {
          "base_uri": "https://localhost:8080/"
        },
        "id": "LbAlwHIK24Lw",
        "outputId": "27dc2d3e-cb68-48b1-f55c-f3ecf6bad1d3"
      },
      "execution_count": 48,
      "outputs": [
        {
          "output_type": "stream",
          "name": "stderr",
          "text": [
            "/usr/local/lib/python3.8/dist-packages/sklearn/neighbors/_classification.py:198: DataConversionWarning: A column-vector y was passed when a 1d array was expected. Please change the shape of y to (n_samples,), for example using ravel().\n",
            "  return self._fit(X, y)\n"
          ]
        },
        {
          "output_type": "execute_result",
          "data": {
            "text/plain": [
              "KNeighborsClassifier()"
            ]
          },
          "metadata": {},
          "execution_count": 48
        }
      ]
    },
    {
      "cell_type": "code",
      "source": [
        "X_test=test_df.loc[:,test_df.columns!='target']\n",
        "y_test=test_df_target_encoded"
      ],
      "metadata": {
        "id": "iQ5Q81_86yeP"
      },
      "execution_count": 49,
      "outputs": []
    },
    {
      "cell_type": "code",
      "source": [
        "y_pred=knn.predict(X_test)"
      ],
      "metadata": {
        "id": "BujpXmH33AFl"
      },
      "execution_count": 50,
      "outputs": []
    },
    {
      "cell_type": "code",
      "source": [
        "pd.DataFrame(y_pred).value_counts()"
      ],
      "metadata": {
        "colab": {
          "base_uri": "https://localhost:8080/"
        },
        "id": "3RiRRTg08gG3",
        "outputId": "2cbfb262-de2a-40b8-dd6e-416e5659e003"
      },
      "execution_count": 51,
      "outputs": [
        {
          "output_type": "execute_result",
          "data": {
            "text/plain": [
              "3    14662\n",
              "0     7175\n",
              "4      705\n",
              "1        2\n",
              "dtype: int64"
            ]
          },
          "metadata": {},
          "execution_count": 51
        }
      ]
    },
    {
      "cell_type": "code",
      "source": [
        "confusion_matrix_multiClass = metrics.confusion_matrix(y_test,y_pred)"
      ],
      "metadata": {
        "id": "7m1cSMHO9VO_"
      },
      "execution_count": 52,
      "outputs": []
    },
    {
      "cell_type": "code",
      "source": [
        "cm_display_multiClass = metrics.ConfusionMatrixDisplay(confusion_matrix = confusion_matrix_multiClass, display_labels = ['DOS', 'R2L','U2R','normal','probe'])\n",
        "\n",
        "cm_display_multiClass.plot()\n",
        "plt.show()"
      ],
      "metadata": {
        "colab": {
          "base_uri": "https://localhost:8080/",
          "height": 281
        },
        "id": "c6lOmXSb91z2",
        "outputId": "36312599-7fcd-4640-bd35-b348a2438ccc"
      },
      "execution_count": 53,
      "outputs": [
        {
          "output_type": "display_data",
          "data": {
            "text/plain": [
              "<Figure size 432x288 with 2 Axes>"
            ],
            "image/png": "[encoded data removed]"
          },
          "metadata": {
            "needs_background": "light"
          }
        }
      ]
    },
    {
      "cell_type": "code",
      "source": [
        "print(\"precision:\",metrics.precision_score(y_test,y_pred,average=None))"
      ],
      "metadata": {
        "colab": {
          "base_uri": "https://localhost:8080/"
        },
        "id": "M6hJ46sZ_tji",
        "outputId": "a46d78e1-ffed-437e-e651-7627aecb03d2"
      },
      "execution_count": 54,
      "outputs": [
        {
          "output_type": "stream",
          "name": "stdout",
          "text": [
            "precision: [0.70843206 0.         0.         0.55142545 0.72765957]\n"
          ]
        },
        {
          "output_type": "stream",
          "name": "stderr",
          "text": [
            "/usr/local/lib/python3.8/dist-packages/sklearn/metrics/_classification.py:1318: UndefinedMetricWarning: Precision is ill-defined and being set to 0.0 in labels with no predicted samples. Use `zero_division` parameter to control this behavior.\n",
            "  _warn_prf(average, modifier, msg_start, len(result))\n"
          ]
        }
      ]
    },
    {
      "cell_type": "code",
      "source": [
        "print(\"accuray:\",metrics.accuracy_score(y_test,y_pred))"
      ],
      "metadata": {
        "colab": {
          "base_uri": "https://localhost:8080/"
        },
        "id": "TemhPj6N8T4I",
        "outputId": "e3c67caa-b384-4844-b425-1d8d2f6db424"
      },
      "execution_count": 55,
      "outputs": [
        {
          "output_type": "stream",
          "name": "stdout",
          "text": [
            "accuray: 0.6068577004968062\n"
          ]
        }
      ]
    },
    {
      "cell_type": "markdown",
      "source": [
        "% of new attacks detected"
      ],
      "metadata": {
        "id": "VYSRGr8ile2B"
      }
    },
    {
      "cell_type": "code",
      "source": [
        "test_df['new_attacks']=pd.read_csv(\"/content/drive/Shareddrives/kdd dataset/new_attack_list.csv\")\n",
        "test_df['new_attacks'].value_counts()"
      ],
      "metadata": {
        "colab": {
          "base_uri": "https://localhost:8080/"
        },
        "id": "uPhODnt4jM4j",
        "outputId": "e8a82156-d13c-42a1-be3f-3e953637d18e"
      },
      "execution_count": 56,
      "outputs": [
        {
          "output_type": "execute_result",
          "data": {
            "text/plain": [
              "-1    18794\n",
              " 1     3750\n",
              "Name: new_attacks, dtype: int64"
            ]
          },
          "metadata": {},
          "execution_count": 56
        }
      ]
    },
    {
      "cell_type": "code",
      "source": [
        "test_df['match_bin']=(y_pred_bin==test_df['target'])"
      ],
      "metadata": {
        "id": "ZwBRgPsUj7eL"
      },
      "execution_count": 57,
      "outputs": []
    },
    {
      "cell_type": "code",
      "source": [
        "test_df['match_bin'].value_counts()"
      ],
      "metadata": {
        "colab": {
          "base_uri": "https://localhost:8080/"
        },
        "id": "grDB-a1gjSR6",
        "outputId": "09d52f38-6ea2-4a74-d8b2-809a9ce40e4a"
      },
      "execution_count": 58,
      "outputs": [
        {
          "output_type": "execute_result",
          "data": {
            "text/plain": [
              "True     14449\n",
              "False     8095\n",
              "Name: match_bin, dtype: int64"
            ]
          },
          "metadata": {},
          "execution_count": 58
        }
      ]
    },
    {
      "cell_type": "code",
      "source": [
        "count_attacks=3750\n",
        "new_attack_detected=(test_df['new_attacks']==test_df['match_bin'])\n",
        "print(\"% of new attacks detected:\",sum(new_attack_detected)/count_attacks)"
      ],
      "metadata": {
        "colab": {
          "base_uri": "https://localhost:8080/"
        },
        "id": "YxoYOLJajXyT",
        "outputId": "96f8d00f-cb08-4b26-dd24-aaaa57c55f27"
      },
      "execution_count": 59,
      "outputs": [
        {
          "output_type": "stream",
          "name": "stdout",
          "text": [
            "% of new attacks detected: 0.18186666666666668\n"
          ]
        }
      ]
    }
  ],
  "metadata": {
    "colab": {
      "provenance": []
    },
    "kernelspec": {
      "display_name": "Python 3",
      "name": "python3"
    },
    "language_info": {
      "name": "python"
    },
    "gpuClass": "standard"
  },
  "nbformat": 4,
  "nbformat_minor": 0
}