{
  "nbformat": 4,
  "nbformat_minor": 0,
  "metadata": {
    "colab": {
      "provenance": []
    },
    "kernelspec": {
      "name": "python3",
      "display_name": "Python 3"
    },
    "language_info": {
      "name": "python"
    }
  },
  "cells": [
    {
      "cell_type": "code",
      "execution_count": null,
      "metadata": {
        "colab": {
          "base_uri": "https://localhost:8080/"
        },
        "id": "SmtKDV0YHekm",
        "outputId": "ead94c4a-0226-4658-e677-30f6a2e3b8f5"
      },
      "outputs": [
        {
          "output_type": "stream",
          "name": "stdout",
          "text": [
            "Drive already mounted at /content/drive; to attempt to forcibly remount, call drive.mount(\"/content/drive\", force_remount=True).\n"
          ]
        }
      ],
      "source": [
        "from google.colab import drive\n",
        "drive.mount('/content/drive')"
      ]
    },
    {
      "cell_type": "markdown",
      "source": [
        "Importing required libraries"
      ],
      "metadata": {
        "id": "St0axZ35Hx4M"
      }
    },
    {
      "cell_type": "code",
      "source": [
        "import pandas as pd\n",
        "import numpy as np"
      ],
      "metadata": {
        "id": "fo29TLB8HrR_"
      },
      "execution_count": null,
      "outputs": []
    },
    {
      "cell_type": "markdown",
      "source": [
        "Loading train and test data to a dataframe"
      ],
      "metadata": {
        "id": "ZKuzk2zBH4ua"
      }
    },
    {
      "cell_type": "code",
      "source": [
        "feature_names = [\"duration\",\"protocol_type\",\"service\",\"flag\",\"src_bytes\",\n",
        "    \"dst_bytes\",\"land\",\"wrong_fragment\",\"urgent\",\"hot\",\"num_failed_logins\",\n",
        "    \"logged_in\",\"num_compromised\",\"root_shell\",\"su_attempted\",\"num_root\",\n",
        "    \"num_file_creations\",\"num_shells\",\"num_access_files\",\"num_outbound_cmds\",\n",
        "    \"is_host_login\",\"is_guest_login\",\"count\",\"srv_count\",\"serror_rate\",\n",
        "    \"srv_serror_rate\",\"rerror_rate\",\"srv_rerror_rate\",\"same_srv_rate\",\n",
        "    \"diff_srv_rate\",\"srv_diff_host_rate\",\"dst_host_count\",\"dst_host_srv_count\",\n",
        "    \"dst_host_same_srv_rate\",\"dst_host_diff_srv_rate\",\"dst_host_same_src_port_rate\",\n",
        "    \"dst_host_srv_diff_host_rate\",\"dst_host_serror_rate\",\"dst_host_srv_serror_rate\",\n",
        "    \"dst_host_rerror_rate\",\"dst_host_srv_rerror_rate\",\"target\",\"severity\"]"
      ],
      "metadata": {
        "id": "zxa3aAtPH6-K"
      },
      "execution_count": null,
      "outputs": []
    },
    {
      "cell_type": "code",
      "source": [
        "df_train = pd.read_csv(\"/content/drive/Shareddrives/kdd dataset/KDDTrain+.txt\",sep=\",\", names=feature_names)\n",
        "df_test = pd.read_csv(\"/content/drive/Shareddrives/kdd dataset/KDDTest+.txt\",sep=\",\",names=feature_names)\n",
        "df_train.drop(['severity'],axis=1,inplace=True)\n",
        "df_test.drop(['severity'],axis=1,inplace=True)"
      ],
      "metadata": {
        "id": "MDE-apgJH9ih"
      },
      "execution_count": null,
      "outputs": []
    },
    {
      "cell_type": "code",
      "source": [
        "print(\"number of attackes in training set:\")\n",
        "print(len(df_train['target'].value_counts())-1)\n",
        "\n",
        "print(\"number of attacks in test set\")\n",
        "print(len(df_test['target'].value_counts())-1)"
      ],
      "metadata": {
        "colab": {
          "base_uri": "https://localhost:8080/"
        },
        "id": "teIIwO4rIG4A",
        "outputId": "26bab7aa-37d5-4c93-916d-ef931a12159e"
      },
      "execution_count": null,
      "outputs": [
        {
          "output_type": "stream",
          "name": "stdout",
          "text": [
            "number of attackes in training set:\n",
            "22\n",
            "number of attacks in test set\n",
            "37\n"
          ]
        }
      ]
    },
    {
      "cell_type": "markdown",
      "source": [
        "Normalization for numeric features"
      ],
      "metadata": {
        "id": "0-alYpmnLPMe"
      }
    },
    {
      "cell_type": "code",
      "source": [
        "numeric_cols=df_train.select_dtypes(include='number').columns"
      ],
      "metadata": {
        "id": "iY84ZmxmRt7p"
      },
      "execution_count": null,
      "outputs": []
    },
    {
      "cell_type": "code",
      "source": [
        "numeric_cols"
      ],
      "metadata": {
        "colab": {
          "base_uri": "https://localhost:8080/"
        },
        "id": "wyZ_RtquRtuX",
        "outputId": "f82942c8-f69f-412c-ac6c-59c0d2252fcb"
      },
      "execution_count": null,
      "outputs": [
        {
          "output_type": "execute_result",
          "data": {
            "text/plain": [
              "Index(['duration', 'src_bytes', 'dst_bytes', 'land', 'wrong_fragment',\n",
              "       'urgent', 'hot', 'num_failed_logins', 'logged_in', 'num_compromised',\n",
              "       'root_shell', 'su_attempted', 'num_root', 'num_file_creations',\n",
              "       'num_shells', 'num_access_files', 'num_outbound_cmds', 'is_host_login',\n",
              "       'is_guest_login', 'count', 'srv_count', 'serror_rate',\n",
              "       'srv_serror_rate', 'rerror_rate', 'srv_rerror_rate', 'same_srv_rate',\n",
              "       'diff_srv_rate', 'srv_diff_host_rate', 'dst_host_count',\n",
              "       'dst_host_srv_count', 'dst_host_same_srv_rate',\n",
              "       'dst_host_diff_srv_rate', 'dst_host_same_src_port_rate',\n",
              "       'dst_host_srv_diff_host_rate', 'dst_host_serror_rate',\n",
              "       'dst_host_srv_serror_rate', 'dst_host_rerror_rate',\n",
              "       'dst_host_srv_rerror_rate'],\n",
              "      dtype='object')"
            ]
          },
          "metadata": {},
          "execution_count": 10
        }
      ]
    },
    {
      "cell_type": "code",
      "source": [
        "from sklearn import preprocessing\n",
        "from sklearn.preprocessing import StandardScaler"
      ],
      "metadata": {
        "id": "K7hr9W_6SN50"
      },
      "execution_count": null,
      "outputs": []
    },
    {
      "cell_type": "code",
      "source": [
        "df_train[numeric_cols]=StandardScaler().fit_transform(df_train[numeric_cols])"
      ],
      "metadata": {
        "id": "7CCHoGtjSZJH"
      },
      "execution_count": null,
      "outputs": []
    },
    {
      "cell_type": "markdown",
      "source": [
        "Principal Component Analysis\n",
        "\n",
        "There are total 41 features to determine whether a particular traffic is normal or attack. Instead of using all 41 features, we can use only most prominet features to train the model. We choose PCA to idenfity most prominet features. "
      ],
      "metadata": {
        "id": "9cMwuLFVLbRF"
      }
    },
    {
      "cell_type": "code",
      "source": [
        "from sklearn.decomposition import PCA"
      ],
      "metadata": {
        "id": "s_AmXaU_Smxd"
      },
      "execution_count": null,
      "outputs": []
    },
    {
      "cell_type": "code",
      "source": [
        "attrList = numeric_cols\n",
        "\n",
        "n_components = len(attrList)\n",
        "pca = PCA(n_components=n_components)\n",
        "reduced = pca.fit_transform(df_train[attrList])\n",
        "eigenvalues = pca.explained_variance_\n",
        "# considering first 9 PCs\n",
        "es=0\n",
        "for p in range(0,7):\n",
        " es=es+pca.explained_variance_[p]\n",
        "#print('eigenvaluessum:',es)\n",
        "cos2sum =[0]*7\n",
        "for row in range(0,len(pca.components_)):\n",
        " for col in range(0,7):\n",
        "  cos2sum[col]=cos2sum[col]+pca.components_[col,row]*pca.components_[col,row]\n",
        "#print('cos2sum :',cos2sum)\n",
        "#commulative contribution\n",
        "cc=[]\n",
        "for i in range(0,len(pca.components_)):\n",
        " s=0\n",
        " for j in range(0,7):\n",
        "  cos2=pca.components_[j,i]*pca.components_[j,i]\n",
        "  contribution_per=(cos2*100)/cos2sum[j]\n",
        "  s=s+contribution_per*eigenvalues[j]\n",
        " commulative_contribution=s/es\n",
        " cc.append(commulative_contribution)\n",
        "ziplist=zip(cc,attrList)\n",
        "sortpairs=sorted(ziplist)\n",
        "tup=zip(*sortpairs)\n",
        "result1, result2=[list(t) for t in tup]\n",
        "\n",
        "for i in range(len(result1)):\n",
        "  print('{:20}:{:20}'.format(result2[i], result1[i]))"
      ],
      "metadata": {
        "colab": {
          "base_uri": "https://localhost:8080/"
        },
        "id": "5tushYbEStcI",
        "outputId": "98ff1eb1-f55f-415d-cf06-9c247b1b1204"
      },
      "execution_count": null,
      "outputs": [
        {
          "output_type": "stream",
          "name": "stdout",
          "text": [
            "num_outbound_cmds   :                 0.0\n",
            "is_host_login       :0.0002761880603804862\n",
            "dst_bytes           :0.010479295088850578\n",
            "src_bytes           :0.025275926474919646\n",
            "num_failed_logins   : 0.08947476339906206\n",
            "land                : 0.10630447341316875\n",
            "urgent              : 0.17257237673161802\n",
            "num_shells          : 0.22241472258444805\n",
            "wrong_fragment      :  0.2381798663125313\n",
            "num_file_creations  :  0.5393449082649621\n",
            "diff_srv_rate       :   1.136906588533838\n",
            "duration            :  1.2068842315943156\n",
            "srv_diff_host_rate  :   2.004176980836101\n",
            "dst_host_diff_srv_rate:    2.27906516191657\n",
            "num_access_files    :  2.3557876102382593\n",
            "root_shell          :   2.537414222555326\n",
            "dst_host_count      :   2.896640664541487\n",
            "dst_host_srv_diff_host_rate:   2.929099762373895\n",
            "su_attempted        :   3.208252529146551\n",
            "dst_host_same_src_port_rate:  3.4374038893620753\n",
            "count               :  3.5082464019042074\n",
            "logged_in           :  3.5466540320795317\n",
            "dst_host_srv_count  :    3.77980883908939\n",
            "dst_host_same_srv_rate:  3.9315680857686313\n",
            "srv_count           :  3.9748244320912827\n",
            "same_srv_rate       :   4.094691155640083\n",
            "dst_host_rerror_rate:   4.144146375827789\n",
            "num_compromised     :   4.145616129088623\n",
            "num_root            :  4.2060796042400215\n",
            "hot                 :   4.208640365069114\n",
            "is_guest_login      :   4.246019437200968\n",
            "dst_host_srv_rerror_rate:   4.351791299195886\n",
            "rerror_rate         :   4.372588606608588\n",
            "srv_rerror_rate     :   4.379267625935799\n",
            "serror_rate         :   4.418563547227859\n",
            "srv_serror_rate     :   4.421296089099119\n",
            "dst_host_serror_rate:  4.4304598069420855\n",
            "dst_host_srv_serror_rate:   4.443784005562656\n"
          ]
        }
      ]
    },
    {
      "cell_type": "code",
      "source": [
        "print(result2)"
      ],
      "metadata": {
        "colab": {
          "base_uri": "https://localhost:8080/"
        },
        "id": "7vt5CyPqTXF8",
        "outputId": "9708cb2b-08e1-46bb-88f4-fb36a1f3cd47"
      },
      "execution_count": null,
      "outputs": [
        {
          "output_type": "stream",
          "name": "stdout",
          "text": [
            "['num_outbound_cmds', 'is_host_login', 'dst_bytes', 'src_bytes', 'num_failed_logins', 'land', 'urgent', 'num_shells', 'wrong_fragment', 'num_file_creations', 'diff_srv_rate', 'duration', 'srv_diff_host_rate', 'dst_host_diff_srv_rate', 'num_access_files', 'root_shell', 'dst_host_count', 'dst_host_srv_diff_host_rate', 'su_attempted', 'dst_host_same_src_port_rate', 'count', 'logged_in', 'dst_host_srv_count', 'dst_host_same_srv_rate', 'srv_count', 'same_srv_rate', 'dst_host_rerror_rate', 'num_compromised', 'num_root', 'hot', 'is_guest_login', 'dst_host_srv_rerror_rate', 'rerror_rate', 'srv_rerror_rate', 'serror_rate', 'srv_serror_rate', 'dst_host_serror_rate', 'dst_host_srv_serror_rate']\n"
          ]
        }
      ]
    },
    {
      "cell_type": "markdown",
      "source": [
        "Considering top 20 features for training the model"
      ],
      "metadata": {
        "id": "pph31_ogMK0N"
      }
    },
    {
      "cell_type": "code",
      "source": [
        "selected_features=['su_attempted', 'dst_host_same_src_port_rate', 'count', 'logged_in', 'dst_host_srv_count', 'dst_host_same_srv_rate', 'srv_count', 'same_srv_rate', 'dst_host_rerror_rate', 'num_compromised', 'num_root', 'hot', 'is_guest_login', 'dst_host_srv_rerror_rate', 'rerror_rate', 'srv_rerror_rate', 'serror_rate', 'srv_serror_rate', 'dst_host_serror_rate', 'dst_host_srv_serror_rate']"
      ],
      "metadata": {
        "id": "cl9D528GTlbI"
      },
      "execution_count": null,
      "outputs": []
    },
    {
      "cell_type": "markdown",
      "source": [
        "Three categorical features are present in the dataset. Machine learning models cannot be trained on the categorical features, performing one hot encoding for such features in dataset."
      ],
      "metadata": {
        "id": "u-aQf7WDMWEf"
      }
    },
    {
      "cell_type": "code",
      "source": [
        "from sklearn.preprocessing import OneHotEncoder \n"
      ],
      "metadata": {
        "id": "lBoVpssXJeGc"
      },
      "execution_count": null,
      "outputs": []
    },
    {
      "cell_type": "code",
      "source": [
        "cat_features=['protocol_type','flag']\n",
        "\n",
        "cat_df=df_train[cat_features]"
      ],
      "metadata": {
        "id": "8alc54YYPd78"
      },
      "execution_count": null,
      "outputs": []
    },
    {
      "cell_type": "code",
      "source": [
        "encoder = OneHotEncoder(handle_unknown='ignore')\n",
        "\n",
        "#perform one-hot encoding on 'service' column \n",
        "encoder_df = pd.DataFrame(encoder.fit_transform(df_train[['service']]).toarray())"
      ],
      "metadata": {
        "id": "nFhTIkYzMQqf"
      },
      "execution_count": null,
      "outputs": []
    },
    {
      "cell_type": "code",
      "source": [
        "encoder_df_test=pd.DataFrame(encoder.transform(df_test[['service']]).toarray())"
      ],
      "metadata": {
        "id": "MaEtXEEMMwaH"
      },
      "execution_count": null,
      "outputs": []
    },
    {
      "cell_type": "code",
      "source": [
        "cat_df=pd.get_dummies(cat_df,columns=cat_features)\n",
        "cat_df=cat_df.join(encoder_df)\n",
        "cat_df.head()"
      ],
      "metadata": {
        "colab": {
          "base_uri": "https://localhost:8080/",
          "height": 297
        },
        "id": "hinzscG1Pdo5",
        "outputId": "489c71d0-8662-4e23-f40b-bd6d94094c5a"
      },
      "execution_count": null,
      "outputs": [
        {
          "output_type": "execute_result",
          "data": {
            "text/plain": [
              "   protocol_type_icmp  protocol_type_tcp  protocol_type_udp  flag_OTH  \\\n",
              "0                   0                  1                  0         0   \n",
              "1                   0                  0                  1         0   \n",
              "2                   0                  1                  0         0   \n",
              "3                   0                  1                  0         0   \n",
              "4                   0                  1                  0         0   \n",
              "\n",
              "   flag_REJ  flag_RSTO  flag_RSTOS0  flag_RSTR  flag_S0  flag_S1  ...   60  \\\n",
              "0         0          0            0          0        0        0  ...  0.0   \n",
              "1         0          0            0          0        0        0  ...  0.0   \n",
              "2         0          0            0          0        1        0  ...  0.0   \n",
              "3         0          0            0          0        0        0  ...  0.0   \n",
              "4         0          0            0          0        0        0  ...  0.0   \n",
              "\n",
              "    61   62   63   64   65   66   67   68   69  \n",
              "0  0.0  0.0  0.0  0.0  0.0  0.0  0.0  0.0  0.0  \n",
              "1  0.0  0.0  0.0  0.0  0.0  0.0  0.0  0.0  0.0  \n",
              "2  0.0  0.0  0.0  0.0  0.0  0.0  0.0  0.0  0.0  \n",
              "3  0.0  0.0  0.0  0.0  0.0  0.0  0.0  0.0  0.0  \n",
              "4  0.0  0.0  0.0  0.0  0.0  0.0  0.0  0.0  0.0  \n",
              "\n",
              "[5 rows x 84 columns]"
            ],
            "text/html": [
              "\n",
              "  <div id=\"df-68aead7b-44b6-4138-884c-035f33f7a82e\">\n",
              "    <div class=\"colab-df-container\">\n",
              "      <div>\n",
              "<style scoped>\n",
              "    .dataframe tbody tr th:only-of-type {\n",
              "        vertical-align: middle;\n",
              "    }\n",
              "\n",
              "    .dataframe tbody tr th {\n",
              "        vertical-align: top;\n",
              "    }\n",
              "\n",
              "    .dataframe thead th {\n",
              "        text-align: right;\n",
              "    }\n",
              "</style>\n",
              "<table border=\"1\" class=\"dataframe\">\n",
              "  <thead>\n",
              "    <tr style=\"text-align: right;\">\n",
              "      <th></th>\n",
              "      <th>protocol_type_icmp</th>\n",
              "      <th>protocol_type_tcp</th>\n",
              "      <th>protocol_type_udp</th>\n",
              "      <th>flag_OTH</th>\n",
              "      <th>flag_REJ</th>\n",
              "      <th>flag_RSTO</th>\n",
              "      <th>flag_RSTOS0</th>\n",
              "      <th>flag_RSTR</th>\n",
              "      <th>flag_S0</th>\n",
              "      <th>flag_S1</th>\n",
              "      <th>...</th>\n",
              "      <th>60</th>\n",
              "      <th>61</th>\n",
              "      <th>62</th>\n",
              "      <th>63</th>\n",
              "      <th>64</th>\n",
              "      <th>65</th>\n",
              "      <th>66</th>\n",
              "      <th>67</th>\n",
              "      <th>68</th>\n",
              "      <th>69</th>\n",
              "    </tr>\n",
              "  </thead>\n",
              "  <tbody>\n",
              "    <tr>\n",
              "      <th>0</th>\n",
              "      <td>0</td>\n",
              "      <td>1</td>\n",
              "      <td>0</td>\n",
              "      <td>0</td>\n",
              "      <td>0</td>\n",
              "      <td>0</td>\n",
              "      <td>0</td>\n",
              "      <td>0</td>\n",
              "      <td>0</td>\n",
              "      <td>0</td>\n",
              "      <td>...</td>\n",
              "      <td>0.0</td>\n",
              "      <td>0.0</td>\n",
              "      <td>0.0</td>\n",
              "      <td>0.0</td>\n",
              "      <td>0.0</td>\n",
              "      <td>0.0</td>\n",
              "      <td>0.0</td>\n",
              "      <td>0.0</td>\n",
              "      <td>0.0</td>\n",
              "      <td>0.0</td>\n",
              "    </tr>\n",
              "    <tr>\n",
              "      <th>1</th>\n",
              "      <td>0</td>\n",
              "      <td>0</td>\n",
              "      <td>1</td>\n",
              "      <td>0</td>\n",
              "      <td>0</td>\n",
              "      <td>0</td>\n",
              "      <td>0</td>\n",
              "      <td>0</td>\n",
              "      <td>0</td>\n",
              "      <td>0</td>\n",
              "      <td>...</td>\n",
              "      <td>0.0</td>\n",
              "      <td>0.0</td>\n",
              "      <td>0.0</td>\n",
              "      <td>0.0</td>\n",
              "      <td>0.0</td>\n",
              "      <td>0.0</td>\n",
              "      <td>0.0</td>\n",
              "      <td>0.0</td>\n",
              "      <td>0.0</td>\n",
              "      <td>0.0</td>\n",
              "    </tr>\n",
              "    <tr>\n",
              "      <th>2</th>\n",
              "      <td>0</td>\n",
              "      <td>1</td>\n",
              "      <td>0</td>\n",
              "      <td>0</td>\n",
              "      <td>0</td>\n",
              "      <td>0</td>\n",
              "      <td>0</td>\n",
              "      <td>0</td>\n",
              "      <td>1</td>\n",
              "      <td>0</td>\n",
              "      <td>...</td>\n",
              "      <td>0.0</td>\n",
              "      <td>0.0</td>\n",
              "      <td>0.0</td>\n",
              "      <td>0.0</td>\n",
              "      <td>0.0</td>\n",
              "      <td>0.0</td>\n",
              "      <td>0.0</td>\n",
              "      <td>0.0</td>\n",
              "      <td>0.0</td>\n",
              "      <td>0.0</td>\n",
              "    </tr>\n",
              "    <tr>\n",
              "      <th>3</th>\n",
              "      <td>0</td>\n",
              "      <td>1</td>\n",
              "      <td>0</td>\n",
              "      <td>0</td>\n",
              "      <td>0</td>\n",
              "      <td>0</td>\n",
              "      <td>0</td>\n",
              "      <td>0</td>\n",
              "      <td>0</td>\n",
              "      <td>0</td>\n",
              "      <td>...</td>\n",
              "      <td>0.0</td>\n",
              "      <td>0.0</td>\n",
              "      <td>0.0</td>\n",
              "      <td>0.0</td>\n",
              "      <td>0.0</td>\n",
              "      <td>0.0</td>\n",
              "      <td>0.0</td>\n",
              "      <td>0.0</td>\n",
              "      <td>0.0</td>\n",
              "      <td>0.0</td>\n",
              "    </tr>\n",
              "    <tr>\n",
              "      <th>4</th>\n",
              "      <td>0</td>\n",
              "      <td>1</td>\n",
              "      <td>0</td>\n",
              "      <td>0</td>\n",
              "      <td>0</td>\n",
              "      <td>0</td>\n",
              "      <td>0</td>\n",
              "      <td>0</td>\n",
              "      <td>0</td>\n",
              "      <td>0</td>\n",
              "      <td>...</td>\n",
              "      <td>0.0</td>\n",
              "      <td>0.0</td>\n",
              "      <td>0.0</td>\n",
              "      <td>0.0</td>\n",
              "      <td>0.0</td>\n",
              "      <td>0.0</td>\n",
              "      <td>0.0</td>\n",
              "      <td>0.0</td>\n",
              "      <td>0.0</td>\n",
              "      <td>0.0</td>\n",
              "    </tr>\n",
              "  </tbody>\n",
              "</table>\n",
              "<p>5 rows × 84 columns</p>\n",
              "</div>\n",
              "      <button class=\"colab-df-convert\" onclick=\"convertToInteractive('df-68aead7b-44b6-4138-884c-035f33f7a82e')\"\n",
              "              title=\"Convert this dataframe to an interactive table.\"\n",
              "              style=\"display:none;\">\n",
              "        \n",
              "  <svg xmlns=\"http://www.w3.org/2000/svg\" height=\"24px\"viewBox=\"0 0 24 24\"\n",
              "       width=\"24px\">\n",
              "    <path d=\"M0 0h24v24H0V0z\" fill=\"none\"/>\n",
              "    <path d=\"M18.56 5.44l.94 2.06.94-2.06 2.06-.94-2.06-.94-.94-2.06-.94 2.06-2.06.94zm-11 1L8.5 8.5l.94-2.06 2.06-.94-2.06-.94L8.5 2.5l-.94 2.06-2.06.94zm10 10l.94 2.06.94-2.06 2.06-.94-2.06-.94-.94-2.06-.94 2.06-2.06.94z\"/><path d=\"M17.41 7.96l-1.37-1.37c-.4-.4-.92-.59-1.43-.59-.52 0-1.04.2-1.43.59L10.3 9.45l-7.72 7.72c-.78.78-.78 2.05 0 2.83L4 21.41c.39.39.9.59 1.41.59.51 0 1.02-.2 1.41-.59l7.78-7.78 2.81-2.81c.8-.78.8-2.07 0-2.86zM5.41 20L4 18.59l7.72-7.72 1.47 1.35L5.41 20z\"/>\n",
              "  </svg>\n",
              "      </button>\n",
              "      \n",
              "  <style>\n",
              "    .colab-df-container {\n",
              "      display:flex;\n",
              "      flex-wrap:wrap;\n",
              "      gap: 12px;\n",
              "    }\n",
              "\n",
              "    .colab-df-convert {\n",
              "      background-color: #E8F0FE;\n",
              "      border: none;\n",
              "      border-radius: 50%;\n",
              "      cursor: pointer;\n",
              "      display: none;\n",
              "      fill: #1967D2;\n",
              "      height: 32px;\n",
              "      padding: 0 0 0 0;\n",
              "      width: 32px;\n",
              "    }\n",
              "\n",
              "    .colab-df-convert:hover {\n",
              "      background-color: #E2EBFA;\n",
              "      box-shadow: 0px 1px 2px rgba(60, 64, 67, 0.3), 0px 1px 3px 1px rgba(60, 64, 67, 0.15);\n",
              "      fill: #174EA6;\n",
              "    }\n",
              "\n",
              "    [theme=dark] .colab-df-convert {\n",
              "      background-color: #3B4455;\n",
              "      fill: #D2E3FC;\n",
              "    }\n",
              "\n",
              "    [theme=dark] .colab-df-convert:hover {\n",
              "      background-color: #434B5C;\n",
              "      box-shadow: 0px 1px 3px 1px rgba(0, 0, 0, 0.15);\n",
              "      filter: drop-shadow(0px 1px 2px rgba(0, 0, 0, 0.3));\n",
              "      fill: #FFFFFF;\n",
              "    }\n",
              "  </style>\n",
              "\n",
              "      <script>\n",
              "        const buttonEl =\n",
              "          document.querySelector('#df-68aead7b-44b6-4138-884c-035f33f7a82e button.colab-df-convert');\n",
              "        buttonEl.style.display =\n",
              "          google.colab.kernel.accessAllowed ? 'block' : 'none';\n",
              "\n",
              "        async function convertToInteractive(key) {\n",
              "          const element = document.querySelector('#df-68aead7b-44b6-4138-884c-035f33f7a82e');\n",
              "          const dataTable =\n",
              "            await google.colab.kernel.invokeFunction('convertToInteractive',\n",
              "                                                     [key], {});\n",
              "          if (!dataTable) return;\n",
              "\n",
              "          const docLinkHtml = 'Like what you see? Visit the ' +\n",
              "            '<a target=\"_blank\" href=https://colab.research.google.com/notebooks/data_table.ipynb>data table notebook</a>'\n",
              "            + ' to learn more about interactive tables.';\n",
              "          element.innerHTML = '';\n",
              "          dataTable['output_type'] = 'display_data';\n",
              "          await google.colab.output.renderOutput(dataTable, element);\n",
              "          const docLink = document.createElement('div');\n",
              "          docLink.innerHTML = docLinkHtml;\n",
              "          element.appendChild(docLink);\n",
              "        }\n",
              "      </script>\n",
              "    </div>\n",
              "  </div>\n",
              "  "
            ]
          },
          "metadata": {},
          "execution_count": 21
        }
      ]
    },
    {
      "cell_type": "markdown",
      "source": [
        "Seperate encoding for test dataset"
      ],
      "metadata": {
        "id": "njAwW6J9NOzd"
      }
    },
    {
      "cell_type": "code",
      "source": [
        "cat_df_test=df_test[cat_features]\n",
        "cat_df_test=pd.get_dummies(cat_df_test,columns=cat_features)\n",
        "cat_df_test=cat_df_test.join(encoder_df_test)\n",
        "cat_df_test.head()"
      ],
      "metadata": {
        "colab": {
          "base_uri": "https://localhost:8080/",
          "height": 297
        },
        "id": "_EYAu7_pNOSH",
        "outputId": "f12acc71-04e9-41d6-a3fa-bbd2da15ba5b"
      },
      "execution_count": null,
      "outputs": [
        {
          "output_type": "execute_result",
          "data": {
            "text/plain": [
              "   protocol_type_icmp  protocol_type_tcp  protocol_type_udp  flag_OTH  \\\n",
              "0                   0                  1                  0         0   \n",
              "1                   0                  1                  0         0   \n",
              "2                   0                  1                  0         0   \n",
              "3                   1                  0                  0         0   \n",
              "4                   0                  1                  0         0   \n",
              "\n",
              "   flag_REJ  flag_RSTO  flag_RSTOS0  flag_RSTR  flag_S0  flag_S1  ...   60  \\\n",
              "0         1          0            0          0        0        0  ...  0.0   \n",
              "1         1          0            0          0        0        0  ...  0.0   \n",
              "2         0          0            0          0        0        0  ...  0.0   \n",
              "3         0          0            0          0        0        0  ...  0.0   \n",
              "4         0          1            0          0        0        0  ...  1.0   \n",
              "\n",
              "    61   62   63   64   65   66   67   68   69  \n",
              "0  0.0  0.0  0.0  0.0  0.0  0.0  0.0  0.0  0.0  \n",
              "1  0.0  0.0  0.0  0.0  0.0  0.0  0.0  0.0  0.0  \n",
              "2  0.0  0.0  0.0  0.0  0.0  0.0  0.0  0.0  0.0  \n",
              "3  0.0  0.0  0.0  0.0  0.0  0.0  0.0  0.0  0.0  \n",
              "4  0.0  0.0  0.0  0.0  0.0  0.0  0.0  0.0  0.0  \n",
              "\n",
              "[5 rows x 84 columns]"
            ],
            "text/html": [
              "\n",
              "  <div id=\"df-6acbd86d-0560-40d4-946d-9091ce19c9e7\">\n",
              "    <div class=\"colab-df-container\">\n",
              "      <div>\n",
              "<style scoped>\n",
              "    .dataframe tbody tr th:only-of-type {\n",
              "        vertical-align: middle;\n",
              "    }\n",
              "\n",
              "    .dataframe tbody tr th {\n",
              "        vertical-align: top;\n",
              "    }\n",
              "\n",
              "    .dataframe thead th {\n",
              "        text-align: right;\n",
              "    }\n",
              "</style>\n",
              "<table border=\"1\" class=\"dataframe\">\n",
              "  <thead>\n",
              "    <tr style=\"text-align: right;\">\n",
              "      <th></th>\n",
              "      <th>protocol_type_icmp</th>\n",
              "      <th>protocol_type_tcp</th>\n",
              "      <th>protocol_type_udp</th>\n",
              "      <th>flag_OTH</th>\n",
              "      <th>flag_REJ</th>\n",
              "      <th>flag_RSTO</th>\n",
              "      <th>flag_RSTOS0</th>\n",
              "      <th>flag_RSTR</th>\n",
              "      <th>flag_S0</th>\n",
              "      <th>flag_S1</th>\n",
              "      <th>...</th>\n",
              "      <th>60</th>\n",
              "      <th>61</th>\n",
              "      <th>62</th>\n",
              "      <th>63</th>\n",
              "      <th>64</th>\n",
              "      <th>65</th>\n",
              "      <th>66</th>\n",
              "      <th>67</th>\n",
              "      <th>68</th>\n",
              "      <th>69</th>\n",
              "    </tr>\n",
              "  </thead>\n",
              "  <tbody>\n",
              "    <tr>\n",
              "      <th>0</th>\n",
              "      <td>0</td>\n",
              "      <td>1</td>\n",
              "      <td>0</td>\n",
              "      <td>0</td>\n",
              "      <td>1</td>\n",
              "      <td>0</td>\n",
              "      <td>0</td>\n",
              "      <td>0</td>\n",
              "      <td>0</td>\n",
              "      <td>0</td>\n",
              "      <td>...</td>\n",
              "      <td>0.0</td>\n",
              "      <td>0.0</td>\n",
              "      <td>0.0</td>\n",
              "      <td>0.0</td>\n",
              "      <td>0.0</td>\n",
              "      <td>0.0</td>\n",
              "      <td>0.0</td>\n",
              "      <td>0.0</td>\n",
              "      <td>0.0</td>\n",
              "      <td>0.0</td>\n",
              "    </tr>\n",
              "    <tr>\n",
              "      <th>1</th>\n",
              "      <td>0</td>\n",
              "      <td>1</td>\n",
              "      <td>0</td>\n",
              "      <td>0</td>\n",
              "      <td>1</td>\n",
              "      <td>0</td>\n",
              "      <td>0</td>\n",
              "      <td>0</td>\n",
              "      <td>0</td>\n",
              "      <td>0</td>\n",
              "      <td>...</td>\n",
              "      <td>0.0</td>\n",
              "      <td>0.0</td>\n",
              "      <td>0.0</td>\n",
              "      <td>0.0</td>\n",
              "      <td>0.0</td>\n",
              "      <td>0.0</td>\n",
              "      <td>0.0</td>\n",
              "      <td>0.0</td>\n",
              "      <td>0.0</td>\n",
              "      <td>0.0</td>\n",
              "    </tr>\n",
              "    <tr>\n",
              "      <th>2</th>\n",
              "      <td>0</td>\n",
              "      <td>1</td>\n",
              "      <td>0</td>\n",
              "      <td>0</td>\n",
              "      <td>0</td>\n",
              "      <td>0</td>\n",
              "      <td>0</td>\n",
              "      <td>0</td>\n",
              "      <td>0</td>\n",
              "      <td>0</td>\n",
              "      <td>...</td>\n",
              "      <td>0.0</td>\n",
              "      <td>0.0</td>\n",
              "      <td>0.0</td>\n",
              "      <td>0.0</td>\n",
              "      <td>0.0</td>\n",
              "      <td>0.0</td>\n",
              "      <td>0.0</td>\n",
              "      <td>0.0</td>\n",
              "      <td>0.0</td>\n",
              "      <td>0.0</td>\n",
              "    </tr>\n",
              "    <tr>\n",
              "      <th>3</th>\n",
              "      <td>1</td>\n",
              "      <td>0</td>\n",
              "      <td>0</td>\n",
              "      <td>0</td>\n",
              "      <td>0</td>\n",
              "      <td>0</td>\n",
              "      <td>0</td>\n",
              "      <td>0</td>\n",
              "      <td>0</td>\n",
              "      <td>0</td>\n",
              "      <td>...</td>\n",
              "      <td>0.0</td>\n",
              "      <td>0.0</td>\n",
              "      <td>0.0</td>\n",
              "      <td>0.0</td>\n",
              "      <td>0.0</td>\n",
              "      <td>0.0</td>\n",
              "      <td>0.0</td>\n",
              "      <td>0.0</td>\n",
              "      <td>0.0</td>\n",
              "      <td>0.0</td>\n",
              "    </tr>\n",
              "    <tr>\n",
              "      <th>4</th>\n",
              "      <td>0</td>\n",
              "      <td>1</td>\n",
              "      <td>0</td>\n",
              "      <td>0</td>\n",
              "      <td>0</td>\n",
              "      <td>1</td>\n",
              "      <td>0</td>\n",
              "      <td>0</td>\n",
              "      <td>0</td>\n",
              "      <td>0</td>\n",
              "      <td>...</td>\n",
              "      <td>1.0</td>\n",
              "      <td>0.0</td>\n",
              "      <td>0.0</td>\n",
              "      <td>0.0</td>\n",
              "      <td>0.0</td>\n",
              "      <td>0.0</td>\n",
              "      <td>0.0</td>\n",
              "      <td>0.0</td>\n",
              "      <td>0.0</td>\n",
              "      <td>0.0</td>\n",
              "    </tr>\n",
              "  </tbody>\n",
              "</table>\n",
              "<p>5 rows × 84 columns</p>\n",
              "</div>\n",
              "      <button class=\"colab-df-convert\" onclick=\"convertToInteractive('df-6acbd86d-0560-40d4-946d-9091ce19c9e7')\"\n",
              "              title=\"Convert this dataframe to an interactive table.\"\n",
              "              style=\"display:none;\">\n",
              "        \n",
              "  <svg xmlns=\"http://www.w3.org/2000/svg\" height=\"24px\"viewBox=\"0 0 24 24\"\n",
              "       width=\"24px\">\n",
              "    <path d=\"M0 0h24v24H0V0z\" fill=\"none\"/>\n",
              "    <path d=\"M18.56 5.44l.94 2.06.94-2.06 2.06-.94-2.06-.94-.94-2.06-.94 2.06-2.06.94zm-11 1L8.5 8.5l.94-2.06 2.06-.94-2.06-.94L8.5 2.5l-.94 2.06-2.06.94zm10 10l.94 2.06.94-2.06 2.06-.94-2.06-.94-.94-2.06-.94 2.06-2.06.94z\"/><path d=\"M17.41 7.96l-1.37-1.37c-.4-.4-.92-.59-1.43-.59-.52 0-1.04.2-1.43.59L10.3 9.45l-7.72 7.72c-.78.78-.78 2.05 0 2.83L4 21.41c.39.39.9.59 1.41.59.51 0 1.02-.2 1.41-.59l7.78-7.78 2.81-2.81c.8-.78.8-2.07 0-2.86zM5.41 20L4 18.59l7.72-7.72 1.47 1.35L5.41 20z\"/>\n",
              "  </svg>\n",
              "      </button>\n",
              "      \n",
              "  <style>\n",
              "    .colab-df-container {\n",
              "      display:flex;\n",
              "      flex-wrap:wrap;\n",
              "      gap: 12px;\n",
              "    }\n",
              "\n",
              "    .colab-df-convert {\n",
              "      background-color: #E8F0FE;\n",
              "      border: none;\n",
              "      border-radius: 50%;\n",
              "      cursor: pointer;\n",
              "      display: none;\n",
              "      fill: #1967D2;\n",
              "      height: 32px;\n",
              "      padding: 0 0 0 0;\n",
              "      width: 32px;\n",
              "    }\n",
              "\n",
              "    .colab-df-convert:hover {\n",
              "      background-color: #E2EBFA;\n",
              "      box-shadow: 0px 1px 2px rgba(60, 64, 67, 0.3), 0px 1px 3px 1px rgba(60, 64, 67, 0.15);\n",
              "      fill: #174EA6;\n",
              "    }\n",
              "\n",
              "    [theme=dark] .colab-df-convert {\n",
              "      background-color: #3B4455;\n",
              "      fill: #D2E3FC;\n",
              "    }\n",
              "\n",
              "    [theme=dark] .colab-df-convert:hover {\n",
              "      background-color: #434B5C;\n",
              "      box-shadow: 0px 1px 3px 1px rgba(0, 0, 0, 0.15);\n",
              "      filter: drop-shadow(0px 1px 2px rgba(0, 0, 0, 0.3));\n",
              "      fill: #FFFFFF;\n",
              "    }\n",
              "  </style>\n",
              "\n",
              "      <script>\n",
              "        const buttonEl =\n",
              "          document.querySelector('#df-6acbd86d-0560-40d4-946d-9091ce19c9e7 button.colab-df-convert');\n",
              "        buttonEl.style.display =\n",
              "          google.colab.kernel.accessAllowed ? 'block' : 'none';\n",
              "\n",
              "        async function convertToInteractive(key) {\n",
              "          const element = document.querySelector('#df-6acbd86d-0560-40d4-946d-9091ce19c9e7');\n",
              "          const dataTable =\n",
              "            await google.colab.kernel.invokeFunction('convertToInteractive',\n",
              "                                                     [key], {});\n",
              "          if (!dataTable) return;\n",
              "\n",
              "          const docLinkHtml = 'Like what you see? Visit the ' +\n",
              "            '<a target=\"_blank\" href=https://colab.research.google.com/notebooks/data_table.ipynb>data table notebook</a>'\n",
              "            + ' to learn more about interactive tables.';\n",
              "          element.innerHTML = '';\n",
              "          dataTable['output_type'] = 'display_data';\n",
              "          await google.colab.output.renderOutput(dataTable, element);\n",
              "          const docLink = document.createElement('div');\n",
              "          docLink.innerHTML = docLinkHtml;\n",
              "          element.appendChild(docLink);\n",
              "        }\n",
              "      </script>\n",
              "    </div>\n",
              "  </div>\n",
              "  "
            ]
          },
          "metadata": {},
          "execution_count": 22
        }
      ]
    },
    {
      "cell_type": "markdown",
      "source": [
        "Dimensions of categorical features of test data set after performing one hot encoding"
      ],
      "metadata": {
        "id": "XU_LcWIRVg06"
      }
    },
    {
      "cell_type": "code",
      "source": [
        "cat_df_test.shape"
      ],
      "metadata": {
        "colab": {
          "base_uri": "https://localhost:8080/"
        },
        "id": "8JOBz2RgPXPe",
        "outputId": "7257eb99-46ff-487f-9da5-2a7e51b94ecf"
      },
      "execution_count": null,
      "outputs": [
        {
          "output_type": "execute_result",
          "data": {
            "text/plain": [
              "(22544, 84)"
            ]
          },
          "metadata": {},
          "execution_count": 23
        }
      ]
    },
    {
      "cell_type": "markdown",
      "source": [
        "Binary classification labeling\n"
      ],
      "metadata": {
        "id": "inmmj3VXT54g"
      }
    },
    {
      "cell_type": "code",
      "source": [
        "binary_target=pd.DataFrame(df_train['target'].map(lambda x:'usual' if x=='normal' else 'unusual'))\n",
        "binary_target['target'].value_counts()"
      ],
      "metadata": {
        "colab": {
          "base_uri": "https://localhost:8080/"
        },
        "id": "Z-M8bp0kJOWE",
        "outputId": "8d1738b3-f1ac-4129-931e-e9163560110d"
      },
      "execution_count": null,
      "outputs": [
        {
          "output_type": "execute_result",
          "data": {
            "text/plain": [
              "usual      67343\n",
              "unusual    58630\n",
              "Name: target, dtype: int64"
            ]
          },
          "metadata": {},
          "execution_count": 24
        }
      ]
    },
    {
      "cell_type": "code",
      "source": [
        "binaryTarget_df=df_train.copy()\n",
        "binaryTarget_df['target']=binary_target\n",
        "def tonumeric(df):\n",
        "   i = df['target']\n",
        "   if i not in label:\n",
        "     label[i] = len(label)\n",
        "   df['target']=label[i]\n",
        "   return df\n",
        "label=dict()\n",
        "binaryTarget_df=binaryTarget_df.apply(tonumeric,axis=1)\n",
        "y_train=binaryTarget_df['target']"
      ],
      "metadata": {
        "id": "mYvmSTR6JQyV"
      },
      "execution_count": null,
      "outputs": []
    },
    {
      "cell_type": "markdown",
      "source": [
        "Saving the file"
      ],
      "metadata": {
        "id": "ky92RmRVWJaL"
      }
    },
    {
      "cell_type": "code",
      "source": [
        "binaryTarget_df=df_train[selected_features].join(cat_df)\n",
        "binaryTarget_df['target']=y_train\n",
        "binaryTarget_df.to_csv(\"/content/drive/Shareddrives/kdd dataset/binaryTraget_df.csv\",index=False)"
      ],
      "metadata": {
        "id": "nZsyT1WlWI3S"
      },
      "execution_count": null,
      "outputs": []
    },
    {
      "cell_type": "code",
      "source": [
        "binaryTarget_df.columns"
      ],
      "metadata": {
        "colab": {
          "base_uri": "https://localhost:8080/"
        },
        "id": "4wJ5zpWNc_sy",
        "outputId": "7194dff4-1ae7-49c2-b5c3-c656ac1f93bd"
      },
      "execution_count": null,
      "outputs": [
        {
          "output_type": "execute_result",
          "data": {
            "text/plain": [
              "Index([               'su_attempted', 'dst_host_same_src_port_rate',\n",
              "                             'count',                   'logged_in',\n",
              "                'dst_host_srv_count',      'dst_host_same_srv_rate',\n",
              "                         'srv_count',               'same_srv_rate',\n",
              "              'dst_host_rerror_rate',             'num_compromised',\n",
              "       ...\n",
              "                                  61,                            62,\n",
              "                                  63,                            64,\n",
              "                                  65,                            66,\n",
              "                                  67,                            68,\n",
              "                                  69,                      'target'],\n",
              "      dtype='object', length=105)"
            ]
          },
          "metadata": {},
          "execution_count": 27
        }
      ]
    },
    {
      "cell_type": "code",
      "source": [
        "binaryTarget_df['target'].value_counts()"
      ],
      "metadata": {
        "colab": {
          "base_uri": "https://localhost:8080/"
        },
        "id": "aCAYI-TFUWUD",
        "outputId": "89fe2c65-6f72-4635-9490-53fa2f0c3953"
      },
      "execution_count": null,
      "outputs": [
        {
          "output_type": "execute_result",
          "data": {
            "text/plain": [
              "0    67343\n",
              "1    58630\n",
              "Name: target, dtype: int64"
            ]
          },
          "metadata": {},
          "execution_count": 28
        }
      ]
    },
    {
      "cell_type": "markdown",
      "source": [
        "Multi Class classification labeling\n",
        "Multi class classifier detects multiple attacks in network. "
      ],
      "metadata": {
        "id": "p-ZdgYOUJptA"
      }
    },
    {
      "cell_type": "code",
      "source": [
        "df_train['target'].value_counts()"
      ],
      "metadata": {
        "id": "gIdoTFSvaQXv",
        "colab": {
          "base_uri": "https://localhost:8080/"
        },
        "outputId": "53ce3c77-e2c8-49ce-86d4-f13d3d867c41"
      },
      "execution_count": null,
      "outputs": [
        {
          "output_type": "execute_result",
          "data": {
            "text/plain": [
              "normal             67343\n",
              "neptune            41214\n",
              "satan               3633\n",
              "ipsweep             3599\n",
              "portsweep           2931\n",
              "smurf               2646\n",
              "nmap                1493\n",
              "back                 956\n",
              "teardrop             892\n",
              "warezclient          890\n",
              "pod                  201\n",
              "guess_passwd          53\n",
              "buffer_overflow       30\n",
              "warezmaster           20\n",
              "land                  18\n",
              "imap                  11\n",
              "rootkit               10\n",
              "loadmodule             9\n",
              "ftp_write              8\n",
              "multihop               7\n",
              "phf                    4\n",
              "perl                   3\n",
              "spy                    2\n",
              "Name: target, dtype: int64"
            ]
          },
          "metadata": {},
          "execution_count": 29
        }
      ]
    },
    {
      "cell_type": "markdown",
      "source": [
        "Grouping target to four attacks"
      ],
      "metadata": {
        "id": "P7aBpJ8VZkpK"
      }
    },
    {
      "cell_type": "code",
      "source": [
        "df_train['target'].replace(['apache2','back','land','neptune','mailbomb','pod','processtable','smurf','teardrop','udpstorm','worm'],'DOS',inplace=True)\n",
        "df_train['target'].replace(['ftp_write','guess_passwd','httptunnel','imap','multihop','named','phf','sendmail','snmpgetattack','snmpguess','spy','warezclient','warezmaster','xlock','xsnoop'],'R2L',inplace=True)\n",
        "df_train['target'].replace(['ipsweep','mscan','nmap','portsweep','saint','satan'],'probe',inplace=True)\n",
        "df_train['target'].replace(['buffer_overflow','loadmodule','perl','ps','rootkit','sqlattack','xterm'],'U2R',inplace=True)"
      ],
      "metadata": {
        "id": "BYe8seIOZPgZ"
      },
      "execution_count": null,
      "outputs": []
    },
    {
      "cell_type": "code",
      "source": [
        "df_train['target'].value_counts()"
      ],
      "metadata": {
        "id": "QTi0rwi3ZfOL",
        "colab": {
          "base_uri": "https://localhost:8080/"
        },
        "outputId": "dd03acfb-9482-4b25-d873-64c9d67b6d8c"
      },
      "execution_count": null,
      "outputs": [
        {
          "output_type": "execute_result",
          "data": {
            "text/plain": [
              "normal    67343\n",
              "DOS       45927\n",
              "probe     11656\n",
              "R2L         995\n",
              "U2R          52\n",
              "Name: target, dtype: int64"
            ]
          },
          "metadata": {},
          "execution_count": 31
        }
      ]
    },
    {
      "cell_type": "markdown",
      "source": [
        "Saving with target names"
      ],
      "metadata": {
        "id": "Q5tPlD7BuSXd"
      }
    },
    {
      "cell_type": "code",
      "source": [
        "df_train['target'].to_csv(\"/content/drive/Shareddrives/kdd dataset/multiClassWithLabel.csv\",index=False)"
      ],
      "metadata": {
        "id": "IDsqFrovuRnj"
      },
      "execution_count": null,
      "outputs": []
    },
    {
      "cell_type": "markdown",
      "source": [
        "Grouping test target to four attacks"
      ],
      "metadata": {
        "id": "3k64noYj9AKT"
      }
    },
    {
      "cell_type": "code",
      "source": [
        "df_test['target'].replace(['apache2','back','land','neptune','mailbomb','pod','processtable','smurf','teardrop','udpstorm','worm'],'DOS',inplace=True)\n",
        "df_test['target'].replace(['ftp_write','guess_passwd','httptunnel','imap','multihop','named','phf','sendmail','snmpgetattack','snmpguess','spy','warezclient','warezmaster','xlock','xsnoop'],'R2L',inplace=True)\n",
        "df_test['target'].replace(['ipsweep','mscan','nmap','portsweep','saint','satan'],'probe',inplace=True)\n",
        "df_test['target'].replace(['buffer_overflow','loadmodule','perl','ps','rootkit','sqlattack','xterm'],'U2R',inplace=True)"
      ],
      "metadata": {
        "id": "gSEr3yDH9Dtw"
      },
      "execution_count": null,
      "outputs": []
    },
    {
      "cell_type": "code",
      "source": [
        "df_test['target'].value_counts()"
      ],
      "metadata": {
        "id": "lkbr0QhW9Lk6",
        "colab": {
          "base_uri": "https://localhost:8080/"
        },
        "outputId": "3dfeec1f-8dd0-4573-84bc-0c971102c566"
      },
      "execution_count": null,
      "outputs": [
        {
          "output_type": "execute_result",
          "data": {
            "text/plain": [
              "normal    9711\n",
              "DOS       7460\n",
              "R2L       2885\n",
              "probe     2421\n",
              "U2R         67\n",
              "Name: target, dtype: int64"
            ]
          },
          "metadata": {},
          "execution_count": 34
        }
      ]
    },
    {
      "cell_type": "code",
      "source": [
        "from sklearn import preprocessing"
      ],
      "metadata": {
        "id": "5x5nDkNBBSZA"
      },
      "execution_count": null,
      "outputs": []
    },
    {
      "cell_type": "markdown",
      "source": [
        "Numeric conversion for `target` \n",
        "normal-3, DOS-0,R2L-1,probe-4,U2R-2\n",
        "\n"
      ],
      "metadata": {
        "id": "eOHi-P_pN7oS"
      }
    },
    {
      "cell_type": "code",
      "source": [
        "le = preprocessing.LabelEncoder()"
      ],
      "metadata": {
        "id": "F-EgMo5BBYXX"
      },
      "execution_count": null,
      "outputs": []
    },
    {
      "cell_type": "code",
      "source": [
        "le.fit(df_test['target'])\n",
        "df_test['target_encoded']=le.transform(df_test['target'])\n",
        "df_train['target_encoded']=le.transform(df_train['target'])"
      ],
      "metadata": {
        "id": "7F_Z4z3ZBeYM"
      },
      "execution_count": null,
      "outputs": []
    },
    {
      "cell_type": "code",
      "source": [
        "df_train['target_encoded'].value_counts()"
      ],
      "metadata": {
        "id": "lRohMxeMCOj5",
        "colab": {
          "base_uri": "https://localhost:8080/"
        },
        "outputId": "bea72d87-3fde-4af6-ba6b-013ca14c8d6a"
      },
      "execution_count": null,
      "outputs": [
        {
          "output_type": "execute_result",
          "data": {
            "text/plain": [
              "3    67343\n",
              "0    45927\n",
              "4    11656\n",
              "1      995\n",
              "2       52\n",
              "Name: target_encoded, dtype: int64"
            ]
          },
          "metadata": {},
          "execution_count": 38
        }
      ]
    },
    {
      "cell_type": "code",
      "source": [
        "df_test['target_encoded'].value_counts()"
      ],
      "metadata": {
        "id": "SqqGCICIBneW",
        "colab": {
          "base_uri": "https://localhost:8080/"
        },
        "outputId": "e663217e-599c-477c-8011-e2d16fc44932"
      },
      "execution_count": null,
      "outputs": [
        {
          "output_type": "execute_result",
          "data": {
            "text/plain": [
              "3    9711\n",
              "0    7460\n",
              "1    2885\n",
              "4    2421\n",
              "2      67\n",
              "Name: target_encoded, dtype: int64"
            ]
          },
          "metadata": {},
          "execution_count": 39
        }
      ]
    },
    {
      "cell_type": "code",
      "source": [
        "df_test['target'].to_csv(\"/content/drive/Shareddrives/kdd dataset/multiClassWithLabel_test.csv\",index=False)"
      ],
      "metadata": {
        "id": "uIDe1-399OVv"
      },
      "execution_count": null,
      "outputs": []
    },
    {
      "cell_type": "code",
      "source": [
        "df_test['target_encoded'].to_csv(\"/content/drive/Shareddrives/kdd dataset/multiClassWithLabel_test_encoded.csv\",index=False)"
      ],
      "metadata": {
        "id": "SwujnLxpKNAc"
      },
      "execution_count": null,
      "outputs": []
    },
    {
      "cell_type": "code",
      "source": [
        "df_train['target_encoded'].to_csv(\"/content/drive/Shareddrives/kdd dataset/multiClassWithLabel_train_encoded.csv\",index=False)"
      ],
      "metadata": {
        "id": "g448l7jsKW51"
      },
      "execution_count": null,
      "outputs": []
    },
    {
      "cell_type": "markdown",
      "source": [
        "# **One hot encoding label**"
      ],
      "metadata": {
        "id": "_LgJgV9VaeiN"
      }
    },
    {
      "cell_type": "code",
      "source": [
        "ohe_target=pd.get_dummies(df_train['target'])\n",
        "multiclass_df=df_train.loc[:, df_train.columns != 'target'][numeric_cols]\n",
        "multiclass_df=multiclass_df.join(cat_df)\n",
        "multiclass_df=multiclass_df.join(ohe_target)\n",
        "multiclass_df.head()"
      ],
      "metadata": {
        "colab": {
          "base_uri": "https://localhost:8080/",
          "height": 297
        },
        "id": "lsK3EJ_1ab4K",
        "outputId": "9c20a05e-1a7e-4d10-8ad3-8903764a61cc"
      },
      "execution_count": null,
      "outputs": [
        {
          "output_type": "execute_result",
          "data": {
            "text/plain": [
              "   duration  src_bytes  dst_bytes      land  wrong_fragment    urgent  \\\n",
              "0 -0.110249  -0.007679  -0.004919 -0.014089       -0.089486 -0.007736   \n",
              "1 -0.110249  -0.007737  -0.004919 -0.014089       -0.089486 -0.007736   \n",
              "2 -0.110249  -0.007762  -0.004919 -0.014089       -0.089486 -0.007736   \n",
              "3 -0.110249  -0.007723  -0.002891 -0.014089       -0.089486 -0.007736   \n",
              "4 -0.110249  -0.007728  -0.004814 -0.014089       -0.089486 -0.007736   \n",
              "\n",
              "        hot  num_failed_logins  logged_in  num_compromised  ...   65   66  \\\n",
              "0 -0.095076          -0.027023  -0.809262        -0.011664  ...  0.0  0.0   \n",
              "1 -0.095076          -0.027023  -0.809262        -0.011664  ...  0.0  0.0   \n",
              "2 -0.095076          -0.027023  -0.809262        -0.011664  ...  0.0  0.0   \n",
              "3 -0.095076          -0.027023   1.235694        -0.011664  ...  0.0  0.0   \n",
              "4 -0.095076          -0.027023   1.235694        -0.011664  ...  0.0  0.0   \n",
              "\n",
              "    67   68   69  DOS  R2L  U2R  normal  probe  \n",
              "0  0.0  0.0  0.0    0    0    0       1      0  \n",
              "1  0.0  0.0  0.0    0    0    0       1      0  \n",
              "2  0.0  0.0  0.0    1    0    0       0      0  \n",
              "3  0.0  0.0  0.0    0    0    0       1      0  \n",
              "4  0.0  0.0  0.0    0    0    0       1      0  \n",
              "\n",
              "[5 rows x 127 columns]"
            ],
            "text/html": [
              "\n",
              "  <div id=\"df-455778a0-613a-449f-847e-e66d446ca3f1\">\n",
              "    <div class=\"colab-df-container\">\n",
              "      <div>\n",
              "<style scoped>\n",
              "    .dataframe tbody tr th:only-of-type {\n",
              "        vertical-align: middle;\n",
              "    }\n",
              "\n",
              "    .dataframe tbody tr th {\n",
              "        vertical-align: top;\n",
              "    }\n",
              "\n",
              "    .dataframe thead th {\n",
              "        text-align: right;\n",
              "    }\n",
              "</style>\n",
              "<table border=\"1\" class=\"dataframe\">\n",
              "  <thead>\n",
              "    <tr style=\"text-align: right;\">\n",
              "      <th></th>\n",
              "      <th>duration</th>\n",
              "      <th>src_bytes</th>\n",
              "      <th>dst_bytes</th>\n",
              "      <th>land</th>\n",
              "      <th>wrong_fragment</th>\n",
              "      <th>urgent</th>\n",
              "      <th>hot</th>\n",
              "      <th>num_failed_logins</th>\n",
              "      <th>logged_in</th>\n",
              "      <th>num_compromised</th>\n",
              "      <th>...</th>\n",
              "      <th>65</th>\n",
              "      <th>66</th>\n",
              "      <th>67</th>\n",
              "      <th>68</th>\n",
              "      <th>69</th>\n",
              "      <th>DOS</th>\n",
              "      <th>R2L</th>\n",
              "      <th>U2R</th>\n",
              "      <th>normal</th>\n",
              "      <th>probe</th>\n",
              "    </tr>\n",
              "  </thead>\n",
              "  <tbody>\n",
              "    <tr>\n",
              "      <th>0</th>\n",
              "      <td>-0.110249</td>\n",
              "      <td>-0.007679</td>\n",
              "      <td>-0.004919</td>\n",
              "      <td>-0.014089</td>\n",
              "      <td>-0.089486</td>\n",
              "      <td>-0.007736</td>\n",
              "      <td>-0.095076</td>\n",
              "      <td>-0.027023</td>\n",
              "      <td>-0.809262</td>\n",
              "      <td>-0.011664</td>\n",
              "      <td>...</td>\n",
              "      <td>0.0</td>\n",
              "      <td>0.0</td>\n",
              "      <td>0.0</td>\n",
              "      <td>0.0</td>\n",
              "      <td>0.0</td>\n",
              "      <td>0</td>\n",
              "      <td>0</td>\n",
              "      <td>0</td>\n",
              "      <td>1</td>\n",
              "      <td>0</td>\n",
              "    </tr>\n",
              "    <tr>\n",
              "      <th>1</th>\n",
              "      <td>-0.110249</td>\n",
              "      <td>-0.007737</td>\n",
              "      <td>-0.004919</td>\n",
              "      <td>-0.014089</td>\n",
              "      <td>-0.089486</td>\n",
              "      <td>-0.007736</td>\n",
              "      <td>-0.095076</td>\n",
              "      <td>-0.027023</td>\n",
              "      <td>-0.809262</td>\n",
              "      <td>-0.011664</td>\n",
              "      <td>...</td>\n",
              "      <td>0.0</td>\n",
              "      <td>0.0</td>\n",
              "      <td>0.0</td>\n",
              "      <td>0.0</td>\n",
              "      <td>0.0</td>\n",
              "      <td>0</td>\n",
              "      <td>0</td>\n",
              "      <td>0</td>\n",
              "      <td>1</td>\n",
              "      <td>0</td>\n",
              "    </tr>\n",
              "    <tr>\n",
              "      <th>2</th>\n",
              "      <td>-0.110249</td>\n",
              "      <td>-0.007762</td>\n",
              "      <td>-0.004919</td>\n",
              "      <td>-0.014089</td>\n",
              "      <td>-0.089486</td>\n",
              "      <td>-0.007736</td>\n",
              "      <td>-0.095076</td>\n",
              "      <td>-0.027023</td>\n",
              "      <td>-0.809262</td>\n",
              "      <td>-0.011664</td>\n",
              "      <td>...</td>\n",
              "      <td>0.0</td>\n",
              "      <td>0.0</td>\n",
              "      <td>0.0</td>\n",
              "      <td>0.0</td>\n",
              "      <td>0.0</td>\n",
              "      <td>1</td>\n",
              "      <td>0</td>\n",
              "      <td>0</td>\n",
              "      <td>0</td>\n",
              "      <td>0</td>\n",
              "    </tr>\n",
              "    <tr>\n",
              "      <th>3</th>\n",
              "      <td>-0.110249</td>\n",
              "      <td>-0.007723</td>\n",
              "      <td>-0.002891</td>\n",
              "      <td>-0.014089</td>\n",
              "      <td>-0.089486</td>\n",
              "      <td>-0.007736</td>\n",
              "      <td>-0.095076</td>\n",
              "      <td>-0.027023</td>\n",
              "      <td>1.235694</td>\n",
              "      <td>-0.011664</td>\n",
              "      <td>...</td>\n",
              "      <td>0.0</td>\n",
              "      <td>0.0</td>\n",
              "      <td>0.0</td>\n",
              "      <td>0.0</td>\n",
              "      <td>0.0</td>\n",
              "      <td>0</td>\n",
              "      <td>0</td>\n",
              "      <td>0</td>\n",
              "      <td>1</td>\n",
              "      <td>0</td>\n",
              "    </tr>\n",
              "    <tr>\n",
              "      <th>4</th>\n",
              "      <td>-0.110249</td>\n",
              "      <td>-0.007728</td>\n",
              "      <td>-0.004814</td>\n",
              "      <td>-0.014089</td>\n",
              "      <td>-0.089486</td>\n",
              "      <td>-0.007736</td>\n",
              "      <td>-0.095076</td>\n",
              "      <td>-0.027023</td>\n",
              "      <td>1.235694</td>\n",
              "      <td>-0.011664</td>\n",
              "      <td>...</td>\n",
              "      <td>0.0</td>\n",
              "      <td>0.0</td>\n",
              "      <td>0.0</td>\n",
              "      <td>0.0</td>\n",
              "      <td>0.0</td>\n",
              "      <td>0</td>\n",
              "      <td>0</td>\n",
              "      <td>0</td>\n",
              "      <td>1</td>\n",
              "      <td>0</td>\n",
              "    </tr>\n",
              "  </tbody>\n",
              "</table>\n",
              "<p>5 rows × 127 columns</p>\n",
              "</div>\n",
              "      <button class=\"colab-df-convert\" onclick=\"convertToInteractive('df-455778a0-613a-449f-847e-e66d446ca3f1')\"\n",
              "              title=\"Convert this dataframe to an interactive table.\"\n",
              "              style=\"display:none;\">\n",
              "        \n",
              "  <svg xmlns=\"http://www.w3.org/2000/svg\" height=\"24px\"viewBox=\"0 0 24 24\"\n",
              "       width=\"24px\">\n",
              "    <path d=\"M0 0h24v24H0V0z\" fill=\"none\"/>\n",
              "    <path d=\"M18.56 5.44l.94 2.06.94-2.06 2.06-.94-2.06-.94-.94-2.06-.94 2.06-2.06.94zm-11 1L8.5 8.5l.94-2.06 2.06-.94-2.06-.94L8.5 2.5l-.94 2.06-2.06.94zm10 10l.94 2.06.94-2.06 2.06-.94-2.06-.94-.94-2.06-.94 2.06-2.06.94z\"/><path d=\"M17.41 7.96l-1.37-1.37c-.4-.4-.92-.59-1.43-.59-.52 0-1.04.2-1.43.59L10.3 9.45l-7.72 7.72c-.78.78-.78 2.05 0 2.83L4 21.41c.39.39.9.59 1.41.59.51 0 1.02-.2 1.41-.59l7.78-7.78 2.81-2.81c.8-.78.8-2.07 0-2.86zM5.41 20L4 18.59l7.72-7.72 1.47 1.35L5.41 20z\"/>\n",
              "  </svg>\n",
              "      </button>\n",
              "      \n",
              "  <style>\n",
              "    .colab-df-container {\n",
              "      display:flex;\n",
              "      flex-wrap:wrap;\n",
              "      gap: 12px;\n",
              "    }\n",
              "\n",
              "    .colab-df-convert {\n",
              "      background-color: #E8F0FE;\n",
              "      border: none;\n",
              "      border-radius: 50%;\n",
              "      cursor: pointer;\n",
              "      display: none;\n",
              "      fill: #1967D2;\n",
              "      height: 32px;\n",
              "      padding: 0 0 0 0;\n",
              "      width: 32px;\n",
              "    }\n",
              "\n",
              "    .colab-df-convert:hover {\n",
              "      background-color: #E2EBFA;\n",
              "      box-shadow: 0px 1px 2px rgba(60, 64, 67, 0.3), 0px 1px 3px 1px rgba(60, 64, 67, 0.15);\n",
              "      fill: #174EA6;\n",
              "    }\n",
              "\n",
              "    [theme=dark] .colab-df-convert {\n",
              "      background-color: #3B4455;\n",
              "      fill: #D2E3FC;\n",
              "    }\n",
              "\n",
              "    [theme=dark] .colab-df-convert:hover {\n",
              "      background-color: #434B5C;\n",
              "      box-shadow: 0px 1px 3px 1px rgba(0, 0, 0, 0.15);\n",
              "      filter: drop-shadow(0px 1px 2px rgba(0, 0, 0, 0.3));\n",
              "      fill: #FFFFFF;\n",
              "    }\n",
              "  </style>\n",
              "\n",
              "      <script>\n",
              "        const buttonEl =\n",
              "          document.querySelector('#df-455778a0-613a-449f-847e-e66d446ca3f1 button.colab-df-convert');\n",
              "        buttonEl.style.display =\n",
              "          google.colab.kernel.accessAllowed ? 'block' : 'none';\n",
              "\n",
              "        async function convertToInteractive(key) {\n",
              "          const element = document.querySelector('#df-455778a0-613a-449f-847e-e66d446ca3f1');\n",
              "          const dataTable =\n",
              "            await google.colab.kernel.invokeFunction('convertToInteractive',\n",
              "                                                     [key], {});\n",
              "          if (!dataTable) return;\n",
              "\n",
              "          const docLinkHtml = 'Like what you see? Visit the ' +\n",
              "            '<a target=\"_blank\" href=https://colab.research.google.com/notebooks/data_table.ipynb>data table notebook</a>'\n",
              "            + ' to learn more about interactive tables.';\n",
              "          element.innerHTML = '';\n",
              "          dataTable['output_type'] = 'display_data';\n",
              "          await google.colab.output.renderOutput(dataTable, element);\n",
              "          const docLink = document.createElement('div');\n",
              "          docLink.innerHTML = docLinkHtml;\n",
              "          element.appendChild(docLink);\n",
              "        }\n",
              "      </script>\n",
              "    </div>\n",
              "  </div>\n",
              "  "
            ]
          },
          "metadata": {},
          "execution_count": 43
        }
      ]
    },
    {
      "cell_type": "code",
      "source": [
        "multiclass_df.shape"
      ],
      "metadata": {
        "colab": {
          "base_uri": "https://localhost:8080/"
        },
        "id": "kzU8odVgc5OE",
        "outputId": "73f79514-5125-4295-f828-c06fe643b059"
      },
      "execution_count": null,
      "outputs": [
        {
          "output_type": "execute_result",
          "data": {
            "text/plain": [
              "(125973, 127)"
            ]
          },
          "metadata": {},
          "execution_count": 44
        }
      ]
    },
    {
      "cell_type": "markdown",
      "source": [
        "Saving files"
      ],
      "metadata": {
        "id": "wfgAf9aUdL3E"
      }
    },
    {
      "cell_type": "code",
      "source": [
        "multiclass_df.to_csv(\"/content/drive/Shareddrives/kdd dataset/multiclass_df.csv\",index=False)"
      ],
      "metadata": {
        "id": "JSPtFgXWdLjQ"
      },
      "execution_count": null,
      "outputs": []
    },
    {
      "cell_type": "markdown",
      "source": [
        "Processing test dataset"
      ],
      "metadata": {
        "id": "M5maTsvfNxK6"
      }
    },
    {
      "cell_type": "code",
      "source": [
        "processed_test_df=df_test[selected_features].join(cat_df_test)"
      ],
      "metadata": {
        "id": "u3BUdVgvN6OA"
      },
      "execution_count": null,
      "outputs": []
    },
    {
      "cell_type": "code",
      "source": [
        "df_test['target'].value_counts()"
      ],
      "metadata": {
        "colab": {
          "base_uri": "https://localhost:8080/"
        },
        "id": "rPC9_KKLAzVX",
        "outputId": "c7ff8d43-0635-4602-aca4-ea22233d613e"
      },
      "execution_count": null,
      "outputs": [
        {
          "output_type": "execute_result",
          "data": {
            "text/plain": [
              "normal    9711\n",
              "DOS       7460\n",
              "R2L       2885\n",
              "probe     2421\n",
              "U2R         67\n",
              "Name: target, dtype: int64"
            ]
          },
          "metadata": {},
          "execution_count": 48
        }
      ]
    },
    {
      "cell_type": "code",
      "source": [
        "binary_target_test=pd.DataFrame(df_test['target'].map(lambda x:'usual' if x=='normal' else 'unusual'))\n",
        "binary_target_test['target'].value_counts()"
      ],
      "metadata": {
        "colab": {
          "base_uri": "https://localhost:8080/"
        },
        "id": "uQfR4yv9e0aL",
        "outputId": "684cbb36-77f6-4311-f832-add39e0f545f"
      },
      "execution_count": null,
      "outputs": [
        {
          "output_type": "execute_result",
          "data": {
            "text/plain": [
              "unusual    12833\n",
              "usual       9711\n",
              "Name: target, dtype: int64"
            ]
          },
          "metadata": {},
          "execution_count": 49
        }
      ]
    },
    {
      "cell_type": "code",
      "source": [
        "target_test=pd.DataFrame(binary_target_test['target'].map(lambda x: 0 if x=='usual' else 1))"
      ],
      "metadata": {
        "id": "hCYsAWP3Okyv"
      },
      "execution_count": null,
      "outputs": []
    },
    {
      "cell_type": "code",
      "source": [
        "target_test.value_counts()"
      ],
      "metadata": {
        "colab": {
          "base_uri": "https://localhost:8080/"
        },
        "id": "P1jv9f_1BH74",
        "outputId": "7fa19f4c-ada5-4529-bec8-ba883d6d3dd8"
      },
      "execution_count": null,
      "outputs": [
        {
          "output_type": "execute_result",
          "data": {
            "text/plain": [
              "target\n",
              "1         12833\n",
              "0          9711\n",
              "dtype: int64"
            ]
          },
          "metadata": {},
          "execution_count": 51
        }
      ]
    },
    {
      "cell_type": "code",
      "source": [
        "binaryTarget_test_df=processed_test_df.copy()\n",
        "binaryTarget_test_df['target']=binary_target_test\n",
        "def tonumeric(df):\n",
        "   i = df['target']\n",
        "   if i not in label:\n",
        "     label[i] = len(label)\n",
        "   df['target']=label[i]\n",
        "   return df\n",
        "label=dict()\n",
        "binaryTarget_test_df=binaryTarget_test_df.apply(tonumeric,axis=1)"
      ],
      "metadata": {
        "id": "LS_oYJ72rTzy"
      },
      "execution_count": null,
      "outputs": []
    },
    {
      "cell_type": "markdown",
      "source": [
        "binary encoding for test data set"
      ],
      "metadata": {
        "id": "S-7jphsMNsp6"
      }
    },
    {
      "cell_type": "code",
      "source": [
        "target_test['target'].value_counts()"
      ],
      "metadata": {
        "colab": {
          "base_uri": "https://localhost:8080/"
        },
        "id": "sUFWvZcXNi8r",
        "outputId": "84e5394c-99d1-4a42-982f-83efbcfedf11"
      },
      "execution_count": null,
      "outputs": [
        {
          "output_type": "execute_result",
          "data": {
            "text/plain": [
              "1    12833\n",
              "0     9711\n",
              "Name: target, dtype: int64"
            ]
          },
          "metadata": {},
          "execution_count": 53
        }
      ]
    },
    {
      "cell_type": "code",
      "source": [
        "processed_test_df['target']=target_test"
      ],
      "metadata": {
        "id": "OehcVmwKsLhu"
      },
      "execution_count": null,
      "outputs": []
    },
    {
      "cell_type": "code",
      "source": [
        "processed_test_df.to_csv(\"/content/drive/Shareddrives/kdd dataset/processed_test_df.csv\",index=False)"
      ],
      "metadata": {
        "id": "HFZowljhQat9"
      },
      "execution_count": null,
      "outputs": []
    },
    {
      "cell_type": "code",
      "source": [
        "binaryTarget_test_df.to_csv(\"/content/drive/Shareddrives/kdd dataset/binaryTarget_test_df.csv\",index=False)"
      ],
      "metadata": {
        "id": "XoJpSXMBfG2h"
      },
      "execution_count": null,
      "outputs": []
    }
  ]
}