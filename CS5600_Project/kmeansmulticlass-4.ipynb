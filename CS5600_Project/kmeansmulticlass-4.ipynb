{
  "nbformat": 4,
  "nbformat_minor": 0,
  "metadata": {
    "colab": {
      "provenance": []
    },
    "kernelspec": {
      "name": "python3",
      "display_name": "Python 3"
    },
    "language_info": {
      "name": "python"
    }
  },
  "cells": [
    {
      "cell_type": "code",
      "execution_count": null,
      "metadata": {
        "colab": {
          "base_uri": "https://localhost:8080/"
        },
        "id": "fIvC4ByPgxen",
        "outputId": "2d4eb471-b253-41d5-9d30-eb1b5d4cc6e1"
      },
      "outputs": [
        {
          "output_type": "stream",
          "name": "stdout",
          "text": [
            "Drive already mounted at /content/drive; to attempt to forcibly remount, call drive.mount(\"/content/drive\", force_remount=True).\n"
          ]
        }
      ],
      "source": [
        "from google.colab import drive\n",
        "drive.mount('/content/drive')"
      ]
    },
    {
      "cell_type": "markdown",
      "source": [
        "Importing required libaries"
      ],
      "metadata": {
        "id": "2kCXoyTzoIQi"
      }
    },
    {
      "cell_type": "code",
      "source": [
        "import pandas as pd \n",
        "import numpy as np\n",
        "import math"
      ],
      "metadata": {
        "id": "Xuwp7HpMg2cH"
      },
      "execution_count": null,
      "outputs": []
    },
    {
      "cell_type": "markdown",
      "source": [
        "Loading train and test data"
      ],
      "metadata": {
        "id": "wIonkF8joLM7"
      }
    },
    {
      "cell_type": "code",
      "source": [
        "train_df = pd.read_csv(\"/content/drive/Shareddrives/kdd dataset/binaryTraget_df.csv\")\n",
        "test_df=pd.read_csv(\"/content/drive/Shareddrives/kdd dataset/processed_test_df.csv\")"
      ],
      "metadata": {
        "id": "gwDgVI3Hg4UB"
      },
      "execution_count": null,
      "outputs": []
    },
    {
      "cell_type": "code",
      "source": [
        "df=train_df.loc[:,train_df.columns!='target']"
      ],
      "metadata": {
        "id": "Id58Wuifg6TA"
      },
      "execution_count": null,
      "outputs": []
    },
    {
      "cell_type": "markdown",
      "source": [
        "For marking data point to corresponding cluster"
      ],
      "metadata": {
        "id": "AFb5VuWFnnth"
      }
    },
    {
      "cell_type": "code",
      "source": [
        "clusters=[0]*df.shape[0]"
      ],
      "metadata": {
        "id": "3ulC6QVGg8Nc"
      },
      "execution_count": null,
      "outputs": []
    },
    {
      "cell_type": "markdown",
      "source": [
        "Choosing first two data points as initial clusters"
      ],
      "metadata": {
        "id": "JuRTv6JCoOog"
      }
    },
    {
      "cell_type": "code",
      "source": [
        "#initial cluster centroids\n",
        "centroids=[[0]*df.shape[1]]*5\n",
        "centroids=df.iloc[0:5,]"
      ],
      "metadata": {
        "id": "OpUI4yl6g-2u"
      },
      "execution_count": null,
      "outputs": []
    },
    {
      "cell_type": "code",
      "source": [
        "#function to calulate eucliedean distance between data points\n",
        "def euclideanDistance(point1,point2):\n",
        "  s=0\n",
        "  for i in range(len(point1)):\n",
        "    s+=(point1[i]-point2[i])**2\n",
        "  return math.sqrt(s)"
      ],
      "metadata": {
        "id": "BkO-oC2riEw9"
      },
      "execution_count": null,
      "outputs": []
    },
    {
      "cell_type": "markdown",
      "source": [
        "Iterations for calcluting cluster centers "
      ],
      "metadata": {
        "id": "isabfc5AoYu0"
      }
    },
    {
      "cell_type": "code",
      "source": [
        "num_iters=25\n",
        "for i in range(num_iters):\n",
        "  #print(i)\n",
        "  dist=[0]*5\n",
        "  for index, row in df.iterrows():\n",
        "    #distance calculation from point to cluster centroid\n",
        "    for i,ele in centroids.iterrows():\n",
        "      e_dist=euclideanDistance(row,ele)\n",
        "      dist[i]=e_dist\n",
        "    \n",
        "    #grouping\n",
        "    clusters[index] = dist.index(min(dist))\n",
        "    \n",
        "  #update cluster centers\n",
        "  df['cluster']=pd.Series(clusters)\n",
        "\n",
        "  new_cluster_centroids=[[0]*df.shape[1]]*5\n",
        "  #new clusters\n",
        "  for i in range(5):\n",
        "    new_cluster_centroids[i]=df[df['cluster']==i].mean(axis=0).drop(['cluster'])\n",
        "  \n",
        "  #update centroids\n",
        "  centroids=new_cluster_centroids\n",
        "  centroids=pd.DataFrame(centroids)\n",
        "  \n",
        "  #removing cluster column\n",
        "  df.drop('cluster', inplace=True, axis=1)"
      ],
      "metadata": {
        "colab": {
          "base_uri": "https://localhost:8080/"
        },
        "id": "rmWHPzWminT5",
        "outputId": "55638f8a-b7d8-4ef7-9cbf-2157bf2ede8b"
      },
      "execution_count": null,
      "outputs": [
        {
          "output_type": "stream",
          "name": "stdout",
          "text": [
            "0\n",
            "1\n",
            "2\n",
            "3\n",
            "4\n",
            "5\n",
            "6\n",
            "7\n",
            "8\n",
            "9\n",
            "10\n",
            "11\n",
            "12\n",
            "13\n",
            "14\n",
            "15\n",
            "16\n",
            "17\n",
            "18\n",
            "19\n",
            "20\n",
            "21\n",
            "22\n",
            "23\n",
            "24\n"
          ]
        }
      ]
    },
    {
      "cell_type": "code",
      "source": [
        "centroids_df=pd.DataFrame(centroids)"
      ],
      "metadata": {
        "id": "NpYNg9k-__H7"
      },
      "execution_count": null,
      "outputs": []
    },
    {
      "cell_type": "markdown",
      "source": [
        "Saving centroids"
      ],
      "metadata": {
        "id": "pAdIpjv0_woa"
      }
    },
    {
      "cell_type": "code",
      "source": [
        "centroids_df.to_csv(\"/content/drive/Shareddrives/kdd dataset/centroids_multiclass.csv\",index=False)"
      ],
      "metadata": {
        "id": "GDwNrUlR_vKX"
      },
      "execution_count": null,
      "outputs": []
    },
    {
      "cell_type": "code",
      "source": [
        "pd.DataFrame(clusters).to_csv(\"/content/drive/Shareddrives/kdd dataset/clusters_multiclass.csv\",index=False)"
      ],
      "metadata": {
        "id": "xW_DC07KMwU3"
      },
      "execution_count": null,
      "outputs": []
    },
    {
      "cell_type": "code",
      "source": [
        "centroids_df=pd.read_csv(\"/content/drive/Shareddrives/kdd dataset/centroids_multiclass.csv\")"
      ],
      "metadata": {
        "id": "u8BY_-inMQSv"
      },
      "execution_count": null,
      "outputs": []
    },
    {
      "cell_type": "code",
      "source": [
        "count=[0]*5\n",
        "for i in range(5):\n",
        "  s=0\n",
        "  for j in range(len(clusters)):\n",
        "    if clusters[j]==i:\n",
        "      s+=1\n",
        "  count[i]=s"
      ],
      "metadata": {
        "id": "K26jASjLrm2N"
      },
      "execution_count": null,
      "outputs": []
    },
    {
      "cell_type": "code",
      "source": [
        "print(count)\n",
        "print(sum(count))"
      ],
      "metadata": {
        "colab": {
          "base_uri": "https://localhost:8080/"
        },
        "id": "FJGuFabct0JR",
        "outputId": "959fa9ff-f244-42ed-eede-bc89605dee9d"
      },
      "execution_count": null,
      "outputs": [
        {
          "output_type": "stream",
          "name": "stdout",
          "text": [
            "[12257, 26748, 34973, 2944, 49051]\n",
            "125973\n"
          ]
        }
      ]
    },
    {
      "cell_type": "markdown",
      "source": [
        "train target data encoding\n",
        "DOS-0,R2L-1,U2R-2,normal-3,probe-4\n"
      ],
      "metadata": {
        "id": "otXZRKNkKtTY"
      }
    },
    {
      "cell_type": "code",
      "source": [
        "train_target = pd.read_csv(\"/content/drive/Shareddrives/kdd dataset/multiClassWithLabel_train_encoded.csv\")\n",
        "print(train_target.value_counts())"
      ],
      "metadata": {
        "colab": {
          "base_uri": "https://localhost:8080/"
        },
        "id": "9kKqwcRit873",
        "outputId": "47d529e1-90a9-4d51-c564-f2ad89595c7a"
      },
      "execution_count": null,
      "outputs": [
        {
          "output_type": "stream",
          "name": "stdout",
          "text": [
            "target_encoded\n",
            "3                 67343\n",
            "0                 45927\n",
            "4                 11656\n",
            "1                   995\n",
            "2                    52\n",
            "dtype: int64\n"
          ]
        }
      ]
    },
    {
      "cell_type": "markdown",
      "source": [
        "Loading test target"
      ],
      "metadata": {
        "id": "Q-3gg8XYDZwi"
      }
    },
    {
      "cell_type": "code",
      "source": [
        "test_target = pd.read_csv(\"/content/drive/Shareddrives/kdd dataset/multiClassWithLabel_test_encoded.csv\")\n",
        "print(test_target.value_counts())"
      ],
      "metadata": {
        "colab": {
          "base_uri": "https://localhost:8080/"
        },
        "id": "rPGFc0Z8DW3X",
        "outputId": "9efb7273-24e2-463f-967f-d39aea35a62f"
      },
      "execution_count": null,
      "outputs": [
        {
          "output_type": "stream",
          "name": "stdout",
          "text": [
            "target_encoded\n",
            "3                 9711\n",
            "0                 7460\n",
            "1                 2885\n",
            "4                 2421\n",
            "2                   67\n",
            "dtype: int64\n"
          ]
        }
      ]
    },
    {
      "cell_type": "code",
      "source": [
        "train_df['target']=train_target\n",
        "test_df['target']=test_target"
      ],
      "metadata": {
        "id": "kQ8ZLsjuL1uA"
      },
      "execution_count": null,
      "outputs": []
    },
    {
      "cell_type": "markdown",
      "source": [
        "number of normal traffic and attacks in each cluster\n",
        "\n",
        "Encoding\n",
        "DOS-0,R2L-1,U2R-2,normal-3,probe-4\n",
        "\n",
        "cluster2-DOS\n",
        "cluster1-R2L & U2R\n",
        "cluster4-normal\n",
        "cluster3-NA\n",
        "cluster0-probe"
      ],
      "metadata": {
        "id": "sTl8IXGHvYtv"
      }
    },
    {
      "cell_type": "code",
      "source": [
        "#[DOS,R2L,U2R,normal,probe]\n",
        "for i in range(5):\n",
        "  count=[0]*5\n",
        "  for j in range(len(clusters)):\n",
        "    if clusters[j]==i:\n",
        "      if train_df['target'][j]==0:\n",
        "        count[0]+=1\n",
        "      elif train_df['target'][j]==1:\n",
        "        count[1]+=1\n",
        "      elif train_df['target'][j]==2:\n",
        "        count[2]+=1\n",
        "      elif train_df['target'][j]==3:\n",
        "        count[3]+=1\n",
        "      else:\n",
        "        count[4]+=1\n",
        "  print(\"for cluster:\")\n",
        "  print(i)\n",
        "  print(count)\n",
        "  print(\"====\")"
      ],
      "metadata": {
        "colab": {
          "base_uri": "https://localhost:8080/"
        },
        "id": "Me16EhWHva6H",
        "outputId": "796feeec-ee38-4561-9325-e1e0c90843f2"
      },
      "execution_count": null,
      "outputs": [
        {
          "output_type": "stream",
          "name": "stdout",
          "text": [
            "for cluster:\n",
            "0\n",
            "[6888, 0, 0, 220, 5149]\n",
            "====\n",
            "for cluster:\n",
            "1\n",
            "[3739, 521, 20, 16544, 5924]\n",
            "====\n",
            "for cluster:\n",
            "2\n",
            "[34344, 3, 0, 129, 497]\n",
            "====\n",
            "for cluster:\n",
            "3\n",
            "[16, 52, 0, 2843, 33]\n",
            "====\n",
            "for cluster:\n",
            "4\n",
            "[940, 419, 32, 47607, 53]\n",
            "====\n"
          ]
        }
      ]
    },
    {
      "cell_type": "markdown",
      "source": [
        "labeling for each cluster centroid \n",
        "\n",
        "Encoding DOS-0,R2L-1,U2R-2,normal-3,probe-4\n",
        "\n",
        "\n",
        "Dos-cluster2\n",
        "R2L-cluster1\n",
        "U2R-cluster4\n",
        "normal-cluster4\n",
        "probe-cluster0"
      ],
      "metadata": {
        "id": "IvPMnZN8soER"
      }
    },
    {
      "cell_type": "markdown",
      "source": [
        "cluster_centroids = [probe,R2L,DOS,U2R,normal]"
      ],
      "metadata": {
        "id": "VYWJkk1oJ0x0"
      }
    },
    {
      "cell_type": "markdown",
      "source": [
        "Clustering on test data"
      ],
      "metadata": {
        "id": "J5HtFhZNsx5j"
      }
    },
    {
      "cell_type": "code",
      "source": [
        "test_df.columns"
      ],
      "metadata": {
        "colab": {
          "base_uri": "https://localhost:8080/"
        },
        "id": "MvMXw-rrvtfY",
        "outputId": "e28ec9dd-c4ce-4c6a-e209-f87be0b53ea0"
      },
      "execution_count": null,
      "outputs": [
        {
          "output_type": "execute_result",
          "data": {
            "text/plain": [
              "Index(['su_attempted', 'dst_host_same_src_port_rate', 'count', 'logged_in',\n",
              "       'dst_host_srv_count', 'dst_host_same_srv_rate', 'srv_count',\n",
              "       'same_srv_rate', 'dst_host_rerror_rate', 'num_compromised',\n",
              "       ...\n",
              "       '64', '65', '66', '67', '68', '69', 'target', 'cluster', 'cluster_copy',\n",
              "       'match'],\n",
              "      dtype='object', length=108)"
            ]
          },
          "metadata": {},
          "execution_count": 40
        }
      ]
    },
    {
      "cell_type": "code",
      "source": [
        "del test_df['cluster']\n",
        "del test_df['cluster_copy']\n",
        "del test_df['match']"
      ],
      "metadata": {
        "id": "7xxUVBagwG_8"
      },
      "execution_count": null,
      "outputs": []
    },
    {
      "cell_type": "code",
      "source": [
        "test_points=test_df.loc[:,train_df.columns!='target']"
      ],
      "metadata": {
        "id": "NlxmfVlT-b6l"
      },
      "execution_count": null,
      "outputs": []
    },
    {
      "cell_type": "code",
      "source": [
        "test_points.shape"
      ],
      "metadata": {
        "colab": {
          "base_uri": "https://localhost:8080/"
        },
        "id": "g0fxvVBfM5he",
        "outputId": "889f3ffe-104c-4f06-d4fa-aec00d7eafd8"
      },
      "execution_count": null,
      "outputs": [
        {
          "output_type": "execute_result",
          "data": {
            "text/plain": [
              "(22544, 104)"
            ]
          },
          "metadata": {},
          "execution_count": 47
        }
      ]
    },
    {
      "cell_type": "code",
      "source": [
        "clusters_test=[0]*df.shape[0]"
      ],
      "metadata": {
        "id": "XsmzTPqA-r7_"
      },
      "execution_count": null,
      "outputs": []
    },
    {
      "cell_type": "code",
      "source": [
        "centroids_df=pd.DataFrame(centroids)"
      ],
      "metadata": {
        "id": "KjGOyR2Q_Spg"
      },
      "execution_count": null,
      "outputs": []
    },
    {
      "cell_type": "code",
      "source": [
        "for index,row in test_points.iterrows():\n",
        "   #distance calculation from point to cluster\n",
        "    for i,ele in centroids_df.iterrows():\n",
        "      e_dist=euclideanDistance(row,ele)\n",
        "      dist[i]=e_dist\n",
        "    \n",
        "    #grouping\n",
        "    clusters_test[index] = dist.index(min(dist))\n",
        "\n",
        "#update cluster centers\n",
        "test_df['cluster']=pd.Series(clusters_test)"
      ],
      "metadata": {
        "id": "iORAeF_usvx2"
      },
      "execution_count": null,
      "outputs": []
    },
    {
      "cell_type": "markdown",
      "source": [
        "\n",
        "Encoding DOS-0,R2L-1,U2R-2,normal-3,probe-4\n",
        "\n",
        "\n",
        "Dos-cluster2\n",
        "R2L-cluster1\n",
        "U2R-cluster1\n",
        "normal-cluster4\n",
        "probe-cluster0"
      ],
      "metadata": {
        "id": "6kFCOCtI0hrO"
      }
    },
    {
      "cell_type": "code",
      "source": [
        "test_df['cluster'].value_counts()"
      ],
      "metadata": {
        "colab": {
          "base_uri": "https://localhost:8080/"
        },
        "id": "G09RqokJstXb",
        "outputId": "d455fde4-1fa3-4086-ab7c-8b00c43dc95b"
      },
      "execution_count": null,
      "outputs": [
        {
          "output_type": "execute_result",
          "data": {
            "text/plain": [
              "4    14539\n",
              "2     4841\n",
              "1     2500\n",
              "0      654\n",
              "3       10\n",
              "Name: cluster, dtype: int64"
            ]
          },
          "metadata": {},
          "execution_count": 51
        }
      ]
    },
    {
      "cell_type": "code",
      "source": [
        "test_df['target'].value_counts()"
      ],
      "metadata": {
        "colab": {
          "base_uri": "https://localhost:8080/"
        },
        "id": "p98BV7GtzIpN",
        "outputId": "64d8275c-211c-4f13-9cda-919d1ed67ebf"
      },
      "execution_count": null,
      "outputs": [
        {
          "output_type": "execute_result",
          "data": {
            "text/plain": [
              "3    9711\n",
              "0    7460\n",
              "1    2885\n",
              "4    2421\n",
              "2      67\n",
              "Name: target, dtype: int64"
            ]
          },
          "metadata": {},
          "execution_count": 25
        }
      ]
    },
    {
      "cell_type": "markdown",
      "source": [
        "Evaluation"
      ],
      "metadata": {
        "id": "rs0U933Zs5Ua"
      }
    },
    {
      "cell_type": "code",
      "source": [
        "test_df['cluster_copy']=pd.Series(clusters_test)"
      ],
      "metadata": {
        "id": "n0OIqTdUKNEN"
      },
      "execution_count": null,
      "outputs": []
    },
    {
      "cell_type": "code",
      "source": [
        "test_df['cluster_copy'].value_counts()"
      ],
      "metadata": {
        "colab": {
          "base_uri": "https://localhost:8080/"
        },
        "id": "Lzy00VGvx6QA",
        "outputId": "d5227622-27b7-4735-ffe5-b1db02dc5eba"
      },
      "execution_count": null,
      "outputs": [
        {
          "output_type": "execute_result",
          "data": {
            "text/plain": [
              "4    14539\n",
              "2     4841\n",
              "1     2500\n",
              "0      654\n",
              "3       10\n",
              "Name: cluster_copy, dtype: int64"
            ]
          },
          "metadata": {},
          "execution_count": 56
        }
      ]
    },
    {
      "cell_type": "code",
      "source": [
        "cluster_label=['probe','R2L','DOS','U2R','normal']"
      ],
      "metadata": {
        "id": "0gFD0FMXwj6t"
      },
      "execution_count": null,
      "outputs": []
    },
    {
      "cell_type": "code",
      "source": [
        "for i in range(5):\n",
        "  test_df.loc[test_df['cluster_copy']==i,\"cluster_copy\"]=cluster_label[i]\n",
        "  "
      ],
      "metadata": {
        "id": "KUCRbod_yQVM"
      },
      "execution_count": null,
      "outputs": []
    },
    {
      "cell_type": "code",
      "source": [
        "test_df['cluster_copy'].value_counts()"
      ],
      "metadata": {
        "colab": {
          "base_uri": "https://localhost:8080/"
        },
        "id": "Azkpdog6xlks",
        "outputId": "67f29c57-d1c0-4d2d-8d7b-040fd0416e2d"
      },
      "execution_count": null,
      "outputs": [
        {
          "output_type": "execute_result",
          "data": {
            "text/plain": [
              "normal    14539\n",
              "DOS        4841\n",
              "R2L        2500\n",
              "probe       654\n",
              "U2R          10\n",
              "Name: cluster_copy, dtype: int64"
            ]
          },
          "metadata": {},
          "execution_count": 59
        }
      ]
    },
    {
      "cell_type": "code",
      "source": [
        "from sklearn import preprocessing"
      ],
      "metadata": {
        "id": "mv7UlvdiyjGz"
      },
      "execution_count": null,
      "outputs": []
    },
    {
      "cell_type": "code",
      "source": [
        "le = preprocessing.LabelEncoder()"
      ],
      "metadata": {
        "id": "QdBylqPuzDnF"
      },
      "execution_count": null,
      "outputs": []
    },
    {
      "cell_type": "code",
      "source": [
        "le.fit(test_df['cluster_copy'])\n",
        "test_df['cluster_encoded']=le.transform(test_df['cluster_copy'])"
      ],
      "metadata": {
        "id": "91Jv8OYVzEJN"
      },
      "execution_count": null,
      "outputs": []
    },
    {
      "cell_type": "code",
      "source": [
        "test_df['cluster_encoded'].value_counts()"
      ],
      "metadata": {
        "colab": {
          "base_uri": "https://localhost:8080/"
        },
        "id": "i_vb8ky4zW-H",
        "outputId": "13bbcca9-49aa-4986-bf9a-5d5ad9374c18"
      },
      "execution_count": null,
      "outputs": [
        {
          "output_type": "execute_result",
          "data": {
            "text/plain": [
              "3    14539\n",
              "0     4841\n",
              "1     2500\n",
              "4      654\n",
              "2       10\n",
              "Name: cluster_encoded, dtype: int64"
            ]
          },
          "metadata": {},
          "execution_count": 63
        }
      ]
    },
    {
      "cell_type": "code",
      "source": [
        "test_df['match']=test_df['target']==test_df['cluster_encoded']"
      ],
      "metadata": {
        "id": "4tvwZi5Ps-zA"
      },
      "execution_count": null,
      "outputs": []
    },
    {
      "cell_type": "code",
      "source": [
        "print(test_df['match'].mean())"
      ],
      "metadata": {
        "colab": {
          "base_uri": "https://localhost:8080/"
        },
        "id": "yAqzycyv1HMb",
        "outputId": "e028a2a6-744e-4f8e-ccba-ee19f103a4b4"
      },
      "execution_count": null,
      "outputs": [
        {
          "output_type": "stream",
          "name": "stdout",
          "text": [
            "0.5489709013484741\n"
          ]
        }
      ]
    },
    {
      "cell_type": "markdown",
      "source": [
        "Confusion matrix"
      ],
      "metadata": {
        "id": "j6gZHnQFz0HU"
      }
    },
    {
      "cell_type": "code",
      "source": [
        "import matplotlib.pyplot as plt\n",
        "from sklearn import metrics"
      ],
      "metadata": {
        "id": "5Y2Mr-jQzr3o"
      },
      "execution_count": null,
      "outputs": []
    },
    {
      "cell_type": "code",
      "source": [
        "confusion_matrix = metrics.confusion_matrix(test_df['target'], test_df['cluster_encoded'])\n",
        "cm_display = metrics.ConfusionMatrixDisplay(confusion_matrix = confusion_matrix, display_labels = ['DOS', 'R2L','U2R','normal','probe'])\n",
        "\n",
        "cm_display.plot()\n",
        "plt.show()"
      ],
      "metadata": {
        "colab": {
          "base_uri": "https://localhost:8080/",
          "height": 279
        },
        "id": "khdQn0SPzrkG",
        "outputId": "dd977a33-3e0e-419b-e9fb-96465109b2b9"
      },
      "execution_count": null,
      "outputs": [
        {
          "output_type": "display_data",
          "data": {
            "text/plain": [
              "<Figure size 432x288 with 2 Axes>"
            ],
            "image/png": "[encoded data removed]"
          },
          "metadata": {
            "needs_background": "light"
          }
        }
      ]
    },
    {
      "cell_type": "code",
      "source": [
        "print(\"precision:\",metrics.precision_score(test_df['target'],test_df['cluster_encoded'],average=None))"
      ],
      "metadata": {
        "colab": {
          "base_uri": "https://localhost:8080/"
        },
        "id": "tU9nP0JD0Qqe",
        "outputId": "168397bd-b9da-40e5-fe8a-174186737b2b"
      },
      "execution_count": null,
      "outputs": [
        {
          "output_type": "stream",
          "name": "stdout",
          "text": [
            "precision: [0.79198513 0.0472     0.6        0.57706857 0.04281346]\n"
          ]
        }
      ]
    },
    {
      "cell_type": "code",
      "source": [
        "print(\"recall:\",metrics.recall_score(test_df['target'],test_df['cluster_encoded'],average=None))"
      ],
      "metadata": {
        "colab": {
          "base_uri": "https://localhost:8080/"
        },
        "id": "euRPBa_S0aRf",
        "outputId": "0da14034-9d63-48df-8724-c6638fdfbfda"
      },
      "execution_count": null,
      "outputs": [
        {
          "output_type": "stream",
          "name": "stdout",
          "text": [
            "recall: [0.51394102 0.04090121 0.08955224 0.8639687  0.01156547]\n"
          ]
        }
      ]
    },
    {
      "cell_type": "code",
      "source": [
        "print(\"accuray:\",metrics.accuracy_score(test_df['target'],test_df['cluster_encoded']))"
      ],
      "metadata": {
        "colab": {
          "base_uri": "https://localhost:8080/"
        },
        "id": "ZTv0dzOj0hKM",
        "outputId": "0d1fd3cc-f38a-4502-e810-0e29425d8505"
      },
      "execution_count": null,
      "outputs": [
        {
          "output_type": "stream",
          "name": "stdout",
          "text": [
            "accuray: 0.5489709013484741\n"
          ]
        }
      ]
    }
  ]
}