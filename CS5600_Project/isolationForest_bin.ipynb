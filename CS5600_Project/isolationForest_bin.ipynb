{
  "nbformat": 4,
  "nbformat_minor": 0,
  "metadata": {
    "colab": {
      "provenance": []
    },
    "kernelspec": {
      "name": "python3",
      "display_name": "Python 3"
    },
    "language_info": {
      "name": "python"
    },
    "accelerator": "GPU",
    "gpuClass": "standard"
  },
  "cells": [
    {
      "cell_type": "code",
      "execution_count": null,
      "metadata": {
        "id": "QZ4JJsusdqSW",
        "colab": {
          "base_uri": "https://localhost:8080/"
        },
        "outputId": "5a715287-c94b-4ca8-8a87-7701adc04d06"
      },
      "outputs": [
        {
          "output_type": "stream",
          "name": "stdout",
          "text": [
            "Mounted at /content/drive\n"
          ]
        }
      ],
      "source": [
        "from google.colab import drive\n",
        "drive.mount('/content/drive')"
      ]
    },
    {
      "cell_type": "markdown",
      "source": [
        "Importing required libaries"
      ],
      "metadata": {
        "id": "UJ_N67VdeRz_"
      }
    },
    {
      "cell_type": "code",
      "source": [
        "import pandas as pd \n",
        "import numpy as np\n",
        "import math"
      ],
      "metadata": {
        "id": "aSE7KVDnd3n4"
      },
      "execution_count": null,
      "outputs": []
    },
    {
      "cell_type": "markdown",
      "source": [
        "Loading train and test data"
      ],
      "metadata": {
        "id": "NoS16aXMeUzt"
      }
    },
    {
      "cell_type": "code",
      "source": [
        "train_df = pd.read_csv(\"/content/drive/Shareddrives/kdd dataset/binaryTraget_df.csv\")\n",
        "test_df=pd.read_csv(\"/content/drive/Shareddrives/kdd dataset/processed_test_df.csv\")"
      ],
      "metadata": {
        "id": "ZTgNltxfd5-8"
      },
      "execution_count": null,
      "outputs": []
    },
    {
      "cell_type": "code",
      "source": [
        "X_train=train_df.loc[:,train_df.columns!='target']\n",
        "y_train=train_df['target']\n",
        "X_test=test_df.loc[:,test_df.columns!='target']\n",
        "y_test=test_df['target']"
      ],
      "metadata": {
        "id": "GBQdSXKUIqMJ"
      },
      "execution_count": null,
      "outputs": []
    },
    {
      "cell_type": "markdown",
      "source": [
        "Training model using isolation forest technique"
      ],
      "metadata": {
        "id": "_49vI0jOeX45"
      }
    },
    {
      "cell_type": "code",
      "source": [
        "from sklearn.ensemble import IsolationForest"
      ],
      "metadata": {
        "id": "rB_XNtj2H1Cr"
      },
      "execution_count": null,
      "outputs": []
    },
    {
      "cell_type": "code",
      "source": [
        "isolation_forest=IsolationForest(random_state=42,contamination='auto',max_samples='auto')"
      ],
      "metadata": {
        "id": "hXRyW2RBHrs9"
      },
      "execution_count": null,
      "outputs": []
    },
    {
      "cell_type": "code",
      "source": [
        "isolation_forest.fit(X_train,y_train)"
      ],
      "metadata": {
        "id": "E5z8NQEuIWgf",
        "colab": {
          "base_uri": "https://localhost:8080/"
        },
        "outputId": "f914d832-f7f0-43dd-c08d-8f89c1da053d"
      },
      "execution_count": null,
      "outputs": [
        {
          "output_type": "execute_result",
          "data": {
            "text/plain": [
              "IsolationForest(random_state=42)"
            ]
          },
          "metadata": {},
          "execution_count": 9
        }
      ]
    },
    {
      "cell_type": "markdown",
      "source": [
        "Model predictions for test dataset"
      ],
      "metadata": {
        "id": "nYgps6SPS3rB"
      }
    },
    {
      "cell_type": "code",
      "source": [
        "preds=isolation_forest.fit_predict(X_test)"
      ],
      "metadata": {
        "id": "iBJTRawRS3Rf"
      },
      "execution_count": null,
      "outputs": []
    },
    {
      "cell_type": "code",
      "source": [
        "test_df['preds']=preds"
      ],
      "metadata": {
        "id": "KkhTf7-8TEWn"
      },
      "execution_count": null,
      "outputs": []
    },
    {
      "cell_type": "code",
      "source": [
        "test_df['preds'].value_counts()"
      ],
      "metadata": {
        "colab": {
          "base_uri": "https://localhost:8080/"
        },
        "id": "1EQ6CinbTHfG",
        "outputId": "d11cafc9-c64f-4423-e33b-beb9a690b197"
      },
      "execution_count": null,
      "outputs": [
        {
          "output_type": "execute_result",
          "data": {
            "text/plain": [
              " 1    22122\n",
              "-1      422\n",
              "Name: preds, dtype: int64"
            ]
          },
          "metadata": {},
          "execution_count": 12
        }
      ]
    },
    {
      "cell_type": "code",
      "source": [
        "test_df['preds']=test_df['preds'].replace(-1,0)"
      ],
      "metadata": {
        "id": "eJEjqtaMT9GB"
      },
      "execution_count": null,
      "outputs": []
    },
    {
      "cell_type": "code",
      "source": [
        "test_df['preds'].value_counts()"
      ],
      "metadata": {
        "colab": {
          "base_uri": "https://localhost:8080/"
        },
        "id": "DtPtvkS6UhC3",
        "outputId": "78ad953c-78b7-4291-8841-4b1c89a3a5c6"
      },
      "execution_count": null,
      "outputs": [
        {
          "output_type": "execute_result",
          "data": {
            "text/plain": [
              "1    22122\n",
              "0      422\n",
              "Name: preds, dtype: int64"
            ]
          },
          "metadata": {},
          "execution_count": 14
        }
      ]
    },
    {
      "cell_type": "code",
      "source": [
        "test_df['match']=(y_test==test_df['preds'])\n",
        "print(test_df['match'].mean())"
      ],
      "metadata": {
        "colab": {
          "base_uri": "https://localhost:8080/"
        },
        "id": "nQiwI3S8qe5Z",
        "outputId": "5d7b0537-d4a5-4ae6-a1a9-f5979b6ce39a"
      },
      "execution_count": null,
      "outputs": [
        {
          "output_type": "stream",
          "name": "stdout",
          "text": [
            "0.5507008516678495\n"
          ]
        }
      ]
    },
    {
      "cell_type": "markdown",
      "source": [
        "Confusion Matrix for evaluting isolation forest"
      ],
      "metadata": {
        "id": "H4lD4hKWScI6"
      }
    },
    {
      "cell_type": "code",
      "source": [
        "import matplotlib.pyplot as plt\n",
        "from sklearn import metrics"
      ],
      "metadata": {
        "id": "kjAWmkrHSfpZ"
      },
      "execution_count": null,
      "outputs": []
    },
    {
      "cell_type": "code",
      "source": [
        "confusion_matrix = metrics.confusion_matrix(test_df['target'], test_df['preds'])\n",
        "cm_display = metrics.ConfusionMatrixDisplay(confusion_matrix = confusion_matrix, display_labels = [False, True])\n",
        "\n",
        "cm_display.plot()\n",
        "plt.show()"
      ],
      "metadata": {
        "colab": {
          "base_uri": "https://localhost:8080/",
          "height": 279
        },
        "id": "mXYTu6oSShPs",
        "outputId": "2a994905-4d34-4512-ae6c-4f85e72b9eb1"
      },
      "execution_count": null,
      "outputs": [
        {
          "output_type": "display_data",
          "data": {
            "text/plain": [
              "<Figure size 432x288 with 2 Axes>"
            ],
            "image/png": "[encoded data removed]"
          },
          "metadata": {
            "needs_background": "light"
          }
        }
      ]
    },
    {
      "cell_type": "code",
      "source": [
        "print('precision:%3f'%metrics.precision_score(test_df['target'],test_df['preds']))"
      ],
      "metadata": {
        "colab": {
          "base_uri": "https://localhost:8080/"
        },
        "id": "SPAvAcLBu229",
        "outputId": "1586dabc-f7b6-432e-c3ab-f07da8961f01"
      },
      "execution_count": null,
      "outputs": [
        {
          "output_type": "stream",
          "name": "stdout",
          "text": [
            "precision:0.561116\n"
          ]
        }
      ]
    },
    {
      "cell_type": "code",
      "source": [
        "print('recall:%3f'%metrics.recall_score(test_df['target'],test_df['preds']))"
      ],
      "metadata": {
        "colab": {
          "base_uri": "https://localhost:8080/"
        },
        "id": "dCynO5ZZvB-O",
        "outputId": "fd817a6e-1b5e-47de-dc13-5fa6e5ae039a"
      },
      "execution_count": null,
      "outputs": [
        {
          "output_type": "stream",
          "name": "stdout",
          "text": [
            "recall:0.967272\n"
          ]
        }
      ]
    },
    {
      "cell_type": "code",
      "source": [
        "print('accuracy:%3f'%metrics.accuracy_score(test_df['target'],test_df['preds']))"
      ],
      "metadata": {
        "colab": {
          "base_uri": "https://localhost:8080/"
        },
        "id": "Zn3Qlx3EvJT_",
        "outputId": "c1fc80df-a7c5-4653-cd21-51daca6df9d8"
      },
      "execution_count": null,
      "outputs": [
        {
          "output_type": "stream",
          "name": "stdout",
          "text": [
            "accuracy:0.550701\n"
          ]
        }
      ]
    },
    {
      "cell_type": "code",
      "source": [
        "new_attacks_df= pd.read_csv(\"/content/drive/Shareddrives/kdd dataset/new_attack_list.csv\")"
      ],
      "metadata": {
        "id": "C37EbL8tRnub"
      },
      "execution_count": null,
      "outputs": []
    },
    {
      "cell_type": "code",
      "source": [
        "test_df['new_attacks']=new_attacks_df"
      ],
      "metadata": {
        "id": "BYeAhocQSazs"
      },
      "execution_count": null,
      "outputs": []
    },
    {
      "cell_type": "code",
      "source": [
        "test_df['new_attacks'].value_counts()"
      ],
      "metadata": {
        "colab": {
          "base_uri": "https://localhost:8080/"
        },
        "id": "XtDZVfbvS5hV",
        "outputId": "8058e012-4ea1-4750-ed93-2c5400612379"
      },
      "execution_count": null,
      "outputs": [
        {
          "output_type": "execute_result",
          "data": {
            "text/plain": [
              "-1    18794\n",
              " 1     3750\n",
              "Name: new_attacks, dtype: int64"
            ]
          },
          "metadata": {},
          "execution_count": 23
        }
      ]
    },
    {
      "cell_type": "code",
      "source": [
        "new_attacks_detected=(test_df['match']==test_df['new_attacks'])"
      ],
      "metadata": {
        "id": "WfR2SGZNR1eV"
      },
      "execution_count": null,
      "outputs": []
    },
    {
      "cell_type": "code",
      "source": [
        "print(\"% of new attacks detected :\",sum(new_attacks_detected)/3750)"
      ],
      "metadata": {
        "colab": {
          "base_uri": "https://localhost:8080/"
        },
        "id": "7l0iwq-rSs0X",
        "outputId": "6d4e866c-a5b9-48f0-a492-6a891b6ad181"
      },
      "execution_count": null,
      "outputs": [
        {
          "output_type": "stream",
          "name": "stdout",
          "text": [
            "% of new attacks detected : 0.9234666666666667\n"
          ]
        }
      ]
    }
  ]
}